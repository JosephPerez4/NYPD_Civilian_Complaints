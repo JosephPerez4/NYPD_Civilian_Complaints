{
  "nbformat": 4,
  "nbformat_minor": 0,
  "metadata": {
    "kernelspec": {
      "display_name": "Python 3",
      "language": "python",
      "name": "python3"
    },
    "language_info": {
      "codemirror_mode": {
        "name": "ipython",
        "version": 3
      },
      "file_extension": ".py",
      "mimetype": "text/x-python",
      "name": "python",
      "nbconvert_exporter": "python",
      "pygments_lexer": "ipython3",
      "version": "3.8.6"
    },
    "colab": {
      "name": "nypd.ipynb",
      "provenance": []
    }
  },
  "cells": [
    {
      "cell_type": "markdown",
      "metadata": {
        "id": "X-BwTtJLr6cM"
      },
      "source": [
        "# NYPD Civilian Complaints\n",
        "\n",
        "### The Data\n",
        "The data and data dictionary is downloadable [here](https://www.propublica.org/datastore/dataset/civilian-complaints-against-new-york-city-police-officers).\n",
        "\n"
      ]
    },
    {
      "cell_type": "markdown",
      "metadata": {
        "id": "w5ETdQD2r6cO"
      },
      "source": [
        "# Summary of Findings\n",
        "\n",
        "### Introduction\n",
        "ProPublica requested and obtained the records of the New York City Police Department's civilian complaints after the statute that had previously kept this infromation secret was repealed by New York state. By utilizing the Civilian Complaints Against New York City Police Officers dataset provided by ProPublica, I will be answering the question: are the unnecessary physical force complaints in New York City of white complainants more successful than non-white? The dataset contains 33,358 civilian complaints filed from September 1985 to January 2020. The columns that will be focused on are mos_ethnicity(officer's ethnicity),mos_gender, complainant_ethnicity, fado_type(general complaint category) allegation(specific allegation), board_disposition(official ruling by the Civilian Complaint Review Board), and the date columns for when the complaint was recieved. The CCRB's dispositions are either substantiated(officer violated rules), exonerated(officer did not violate rules), and unsubstantiated(inconclusive).\n",
        "\n",
        "### Cleaning and EDA\n",
        "Initially, a dataset was created that filtered the large, original to only include those with a fado_type of \"Force\" and the columns that will be needed. The month and year columns were merged into a datetime column called \"date\". The initial dataframe only contained 845 missing values for complainant_ethnicity but this became 1170 when \"Unknown\" and \"Refused\" were changed to np.NaN as these values are essentially missing. These values remained in the initial dataframe to use for missingness assessment but a new dataframe was created that dropped these null values in order to use for further EDA. Here,a new column was created by grouping complainant_ethnicities by white or non-white. In this new dataframe with no null values, it was found that allegations from black and then hispanic complainants were overwhelmingly more likely than other ethnicities. Additionally, white officers and then hispanic officers receieved the most excessive force allegations. Excessive force allegations made remained over 300 consistently since 2005 but dipped in 2019 possibly as a result of increase social justice attention, body cams, or legislative efforts for police accountability(more info and data needed for these questions). Perhaps unsurprisingly, the CCRB only substantiates very little excessive force allegations. However, of those that are substantiated, white complainants have 13.5% of their excessive force allegations substantiated while non-white have 10.7%. \n",
        "\n",
        "### Assessment of Missingness\n",
        "The complainant_ethnicity column is important in answering the question and with the original NaN values with the unknown and refused responses changed to NaN it contains 1170 missing values. I believe the values are MAR and not NMAR as it is likely the complainants would not want to identify their ethnicity depending on the officer's ethnicity, anonymity, or a belief that it would affect the outcome of the allegation. Data that may helpful here would be method in which the allegation was made(phone,in-person,email,...). \n",
        "\n",
        "Permutation test were conducted to test the dependency of the missingness of complainant_ethnicity on other columns. For the column mos_ethnicity(officer ethnicity) a TVD test was used as complainant_ethnicity is categorical along with a significance level of 0.01 and found a p-value of 0. This means that the missingness of the complainant_ethnicity is related to the mos_ethnicity. For the column mos_gender(officer gender), a p-value of 0.021 was found which is greater than our significance level. The missingness of complainant_ethnicity is not dependent on the officer's gender.\n",
        "\n",
        "Significantly, this means that complainant_ethnicity is not missing completely at random and instead is missing at random with a dependence on mos_ethnicity. In respect to the research question and previous data analysis, this implicates that the dominant number of allegations aimed at white officers can be effecting the number of complainants who identify their ethnicity which can directly affect any analysis as missing values comprise of 1/7 of our excessive force dataframe.\n",
        "\n",
        "### Hypothesis Test\n",
        "The null hypothesis for the hypothesis test is that the distribution of the NYPD civilian excessive force complaints that are found to be substantiated is similar among those who identified themselves as white and those who did not. Any difference found between the two would be as a result of chance. In turn, the alternative hypothesis is that the distributions of NYPD substantiated excessive force complaints are different amongst the two. By finding if there is significant difference between the distributions of the substantiated excessive force claims, these hypotheses will answer the question of whether white complaints are significantly substantiated more often than non-white complaints. Due to the variables that will be tested being both categorical variables, the test statistic will be the total variation data (TVD). In order to reduce the probability of a Type-1 error, the significance level will be set to a low 0.01. \n",
        "\n",
        "After performing the test, the resulting p-value was found to be 0 which means we can reject the null hypothesis that the distribution of the NYPD civilian excessive force complaints that are found to be substantiated is similar among those who identified themselves as white and those who did not. Additionally, a similar hypothesis test was conducted but instead the complainant ethnicities were left ungrouped. Similarly, a p-value of 0 was found and the distributions were found to be significantly different.\n",
        "\n",
        "With regards to the overall research question, our initial hypothesis test supports that NYPD excessive force complaints are proportionally substantiated more often if the complainant identified themselves as white."
      ]
    },
    {
      "cell_type": "markdown",
      "metadata": {
        "id": "ncdrfnpfr6cQ"
      },
      "source": [
        "# Code"
      ]
    },
    {
      "cell_type": "code",
      "metadata": {
        "ExecuteTime": {
          "end_time": "2019-10-31T23:36:28.652554Z",
          "start_time": "2019-10-31T23:36:27.180520Z"
        },
        "id": "QPqS0tAVr6cR"
      },
      "source": [
        "import matplotlib.pyplot as plt\n",
        "import numpy as np\n",
        "import os\n",
        "import pandas as pd\n",
        "import seaborn as sns\n",
        "%matplotlib inline\n",
        "%config InlineBackend.figure_format = 'retina'  # Higher resolution figures"
      ],
      "execution_count": null,
      "outputs": []
    },
    {
      "cell_type": "markdown",
      "metadata": {
        "id": "dv-EZXnOr6cR"
      },
      "source": [
        "### Cleaning and EDA"
      ]
    },
    {
      "cell_type": "markdown",
      "metadata": {
        "id": "hNhWibWwr6cS"
      },
      "source": [
        "Reading in data provided by ProPublica."
      ]
    },
    {
      "cell_type": "code",
      "metadata": {
        "ExecuteTime": {
          "end_time": "2019-10-31T23:36:28.657068Z",
          "start_time": "2019-10-31T23:36:28.654650Z"
        },
        "scrolled": true,
        "id": "Ry_wgcS8r6cS",
        "outputId": "82bf61be-31fa-4b7f-bab3-7a70c45115f2"
      },
      "source": [
        "#Read in data\n",
        "allegations=pd.read_csv(\"allegations_202007271729.csv\")\n",
        "allegations.head()"
      ],
      "execution_count": null,
      "outputs": [
        {
          "data": {
            "text/html": [
              "<div>\n",
              "<style scoped>\n",
              "    .dataframe tbody tr th:only-of-type {\n",
              "        vertical-align: middle;\n",
              "    }\n",
              "\n",
              "    .dataframe tbody tr th {\n",
              "        vertical-align: top;\n",
              "    }\n",
              "\n",
              "    .dataframe thead th {\n",
              "        text-align: right;\n",
              "    }\n",
              "</style>\n",
              "<table border=\"1\" class=\"dataframe\">\n",
              "  <thead>\n",
              "    <tr style=\"text-align: right;\">\n",
              "      <th></th>\n",
              "      <th>unique_mos_id</th>\n",
              "      <th>first_name</th>\n",
              "      <th>last_name</th>\n",
              "      <th>command_now</th>\n",
              "      <th>shield_no</th>\n",
              "      <th>complaint_id</th>\n",
              "      <th>month_received</th>\n",
              "      <th>year_received</th>\n",
              "      <th>month_closed</th>\n",
              "      <th>year_closed</th>\n",
              "      <th>...</th>\n",
              "      <th>mos_age_incident</th>\n",
              "      <th>complainant_ethnicity</th>\n",
              "      <th>complainant_gender</th>\n",
              "      <th>complainant_age_incident</th>\n",
              "      <th>fado_type</th>\n",
              "      <th>allegation</th>\n",
              "      <th>precinct</th>\n",
              "      <th>contact_reason</th>\n",
              "      <th>outcome_description</th>\n",
              "      <th>board_disposition</th>\n",
              "    </tr>\n",
              "  </thead>\n",
              "  <tbody>\n",
              "    <tr>\n",
              "      <th>0</th>\n",
              "      <td>10004</td>\n",
              "      <td>Jonathan</td>\n",
              "      <td>Ruiz</td>\n",
              "      <td>078 PCT</td>\n",
              "      <td>8409</td>\n",
              "      <td>42835</td>\n",
              "      <td>7</td>\n",
              "      <td>2019</td>\n",
              "      <td>5</td>\n",
              "      <td>2020</td>\n",
              "      <td>...</td>\n",
              "      <td>32</td>\n",
              "      <td>Black</td>\n",
              "      <td>Female</td>\n",
              "      <td>38.0</td>\n",
              "      <td>Abuse of Authority</td>\n",
              "      <td>Failure to provide RTKA card</td>\n",
              "      <td>78.0</td>\n",
              "      <td>Report-domestic dispute</td>\n",
              "      <td>No arrest made or summons issued</td>\n",
              "      <td>Substantiated (Command Lvl Instructions)</td>\n",
              "    </tr>\n",
              "    <tr>\n",
              "      <th>1</th>\n",
              "      <td>10007</td>\n",
              "      <td>John</td>\n",
              "      <td>Sears</td>\n",
              "      <td>078 PCT</td>\n",
              "      <td>5952</td>\n",
              "      <td>24601</td>\n",
              "      <td>11</td>\n",
              "      <td>2011</td>\n",
              "      <td>8</td>\n",
              "      <td>2012</td>\n",
              "      <td>...</td>\n",
              "      <td>24</td>\n",
              "      <td>Black</td>\n",
              "      <td>Male</td>\n",
              "      <td>26.0</td>\n",
              "      <td>Discourtesy</td>\n",
              "      <td>Action</td>\n",
              "      <td>67.0</td>\n",
              "      <td>Moving violation</td>\n",
              "      <td>Moving violation summons issued</td>\n",
              "      <td>Substantiated (Charges)</td>\n",
              "    </tr>\n",
              "    <tr>\n",
              "      <th>2</th>\n",
              "      <td>10007</td>\n",
              "      <td>John</td>\n",
              "      <td>Sears</td>\n",
              "      <td>078 PCT</td>\n",
              "      <td>5952</td>\n",
              "      <td>24601</td>\n",
              "      <td>11</td>\n",
              "      <td>2011</td>\n",
              "      <td>8</td>\n",
              "      <td>2012</td>\n",
              "      <td>...</td>\n",
              "      <td>24</td>\n",
              "      <td>Black</td>\n",
              "      <td>Male</td>\n",
              "      <td>26.0</td>\n",
              "      <td>Offensive Language</td>\n",
              "      <td>Race</td>\n",
              "      <td>67.0</td>\n",
              "      <td>Moving violation</td>\n",
              "      <td>Moving violation summons issued</td>\n",
              "      <td>Substantiated (Charges)</td>\n",
              "    </tr>\n",
              "    <tr>\n",
              "      <th>3</th>\n",
              "      <td>10007</td>\n",
              "      <td>John</td>\n",
              "      <td>Sears</td>\n",
              "      <td>078 PCT</td>\n",
              "      <td>5952</td>\n",
              "      <td>26146</td>\n",
              "      <td>7</td>\n",
              "      <td>2012</td>\n",
              "      <td>9</td>\n",
              "      <td>2013</td>\n",
              "      <td>...</td>\n",
              "      <td>25</td>\n",
              "      <td>Black</td>\n",
              "      <td>Male</td>\n",
              "      <td>45.0</td>\n",
              "      <td>Abuse of Authority</td>\n",
              "      <td>Question</td>\n",
              "      <td>67.0</td>\n",
              "      <td>PD suspected C/V of violation/crime - street</td>\n",
              "      <td>No arrest made or summons issued</td>\n",
              "      <td>Substantiated (Charges)</td>\n",
              "    </tr>\n",
              "    <tr>\n",
              "      <th>4</th>\n",
              "      <td>10009</td>\n",
              "      <td>Noemi</td>\n",
              "      <td>Sierra</td>\n",
              "      <td>078 PCT</td>\n",
              "      <td>24058</td>\n",
              "      <td>40253</td>\n",
              "      <td>8</td>\n",
              "      <td>2018</td>\n",
              "      <td>2</td>\n",
              "      <td>2019</td>\n",
              "      <td>...</td>\n",
              "      <td>39</td>\n",
              "      <td>NaN</td>\n",
              "      <td>NaN</td>\n",
              "      <td>16.0</td>\n",
              "      <td>Force</td>\n",
              "      <td>Physical force</td>\n",
              "      <td>67.0</td>\n",
              "      <td>Report-dispute</td>\n",
              "      <td>Arrest - other violation/crime</td>\n",
              "      <td>Substantiated (Command Discipline A)</td>\n",
              "    </tr>\n",
              "  </tbody>\n",
              "</table>\n",
              "<p>5 rows × 27 columns</p>\n",
              "</div>"
            ],
            "text/plain": [
              "   unique_mos_id first_name last_name command_now  shield_no  complaint_id  \\\n",
              "0          10004   Jonathan      Ruiz     078 PCT       8409         42835   \n",
              "1          10007       John     Sears     078 PCT       5952         24601   \n",
              "2          10007       John     Sears     078 PCT       5952         24601   \n",
              "3          10007       John     Sears     078 PCT       5952         26146   \n",
              "4          10009      Noemi    Sierra     078 PCT      24058         40253   \n",
              "\n",
              "   month_received  year_received  month_closed  year_closed  ...  \\\n",
              "0               7           2019             5         2020  ...   \n",
              "1              11           2011             8         2012  ...   \n",
              "2              11           2011             8         2012  ...   \n",
              "3               7           2012             9         2013  ...   \n",
              "4               8           2018             2         2019  ...   \n",
              "\n",
              "  mos_age_incident complainant_ethnicity complainant_gender  \\\n",
              "0               32                 Black             Female   \n",
              "1               24                 Black               Male   \n",
              "2               24                 Black               Male   \n",
              "3               25                 Black               Male   \n",
              "4               39                   NaN                NaN   \n",
              "\n",
              "  complainant_age_incident           fado_type                    allegation  \\\n",
              "0                     38.0  Abuse of Authority  Failure to provide RTKA card   \n",
              "1                     26.0         Discourtesy                        Action   \n",
              "2                     26.0  Offensive Language                          Race   \n",
              "3                     45.0  Abuse of Authority                      Question   \n",
              "4                     16.0               Force                Physical force   \n",
              "\n",
              "  precinct                                contact_reason  \\\n",
              "0     78.0                       Report-domestic dispute   \n",
              "1     67.0                              Moving violation   \n",
              "2     67.0                              Moving violation   \n",
              "3     67.0  PD suspected C/V of violation/crime - street   \n",
              "4     67.0                                Report-dispute   \n",
              "\n",
              "                outcome_description                         board_disposition  \n",
              "0  No arrest made or summons issued  Substantiated (Command Lvl Instructions)  \n",
              "1   Moving violation summons issued                   Substantiated (Charges)  \n",
              "2   Moving violation summons issued                   Substantiated (Charges)  \n",
              "3  No arrest made or summons issued                   Substantiated (Charges)  \n",
              "4    Arrest - other violation/crime      Substantiated (Command Discipline A)  \n",
              "\n",
              "[5 rows x 27 columns]"
            ]
          },
          "execution_count": 2,
          "metadata": {},
          "output_type": "execute_result"
        }
      ]
    },
    {
      "cell_type": "markdown",
      "metadata": {
        "id": "VXIiStEWr6cS"
      },
      "source": [
        "Initial dataframe number of elements and variables."
      ]
    },
    {
      "cell_type": "code",
      "metadata": {
        "id": "jTrKitiBr6cT",
        "outputId": "932dc677-6f26-4604-d5b2-8aa68e855942"
      },
      "source": [
        "#Number of elements and variables\n",
        "allegations.shape"
      ],
      "execution_count": null,
      "outputs": [
        {
          "data": {
            "text/plain": [
              "(33358, 27)"
            ]
          },
          "execution_count": 3,
          "metadata": {},
          "output_type": "execute_result"
        }
      ]
    },
    {
      "cell_type": "markdown",
      "metadata": {
        "id": "TK9-GhEsr6cT"
      },
      "source": [
        "The research question specifies excessive force complaints so we will create a new dataframe with this filter in mind."
      ]
    },
    {
      "cell_type": "code",
      "metadata": {
        "id": "Lm0aLKtbr6cT",
        "outputId": "e146803a-56f1-4d6f-f56c-8419d130bb5b"
      },
      "source": [
        "#Filtering to only complaints of physical force\n",
        "physical=allegations[allegations[\"fado_type\"]==\"Force\"]\n",
        "physical.head()"
      ],
      "execution_count": null,
      "outputs": [
        {
          "data": {
            "text/html": [
              "<div>\n",
              "<style scoped>\n",
              "    .dataframe tbody tr th:only-of-type {\n",
              "        vertical-align: middle;\n",
              "    }\n",
              "\n",
              "    .dataframe tbody tr th {\n",
              "        vertical-align: top;\n",
              "    }\n",
              "\n",
              "    .dataframe thead th {\n",
              "        text-align: right;\n",
              "    }\n",
              "</style>\n",
              "<table border=\"1\" class=\"dataframe\">\n",
              "  <thead>\n",
              "    <tr style=\"text-align: right;\">\n",
              "      <th></th>\n",
              "      <th>unique_mos_id</th>\n",
              "      <th>first_name</th>\n",
              "      <th>last_name</th>\n",
              "      <th>command_now</th>\n",
              "      <th>shield_no</th>\n",
              "      <th>complaint_id</th>\n",
              "      <th>month_received</th>\n",
              "      <th>year_received</th>\n",
              "      <th>month_closed</th>\n",
              "      <th>year_closed</th>\n",
              "      <th>...</th>\n",
              "      <th>mos_age_incident</th>\n",
              "      <th>complainant_ethnicity</th>\n",
              "      <th>complainant_gender</th>\n",
              "      <th>complainant_age_incident</th>\n",
              "      <th>fado_type</th>\n",
              "      <th>allegation</th>\n",
              "      <th>precinct</th>\n",
              "      <th>contact_reason</th>\n",
              "      <th>outcome_description</th>\n",
              "      <th>board_disposition</th>\n",
              "    </tr>\n",
              "  </thead>\n",
              "  <tbody>\n",
              "    <tr>\n",
              "      <th>4</th>\n",
              "      <td>10009</td>\n",
              "      <td>Noemi</td>\n",
              "      <td>Sierra</td>\n",
              "      <td>078 PCT</td>\n",
              "      <td>24058</td>\n",
              "      <td>40253</td>\n",
              "      <td>8</td>\n",
              "      <td>2018</td>\n",
              "      <td>2</td>\n",
              "      <td>2019</td>\n",
              "      <td>...</td>\n",
              "      <td>39</td>\n",
              "      <td>NaN</td>\n",
              "      <td>NaN</td>\n",
              "      <td>16.0</td>\n",
              "      <td>Force</td>\n",
              "      <td>Physical force</td>\n",
              "      <td>67.0</td>\n",
              "      <td>Report-dispute</td>\n",
              "      <td>Arrest - other violation/crime</td>\n",
              "      <td>Substantiated (Command Discipline A)</td>\n",
              "    </tr>\n",
              "    <tr>\n",
              "      <th>13</th>\n",
              "      <td>10026</td>\n",
              "      <td>Brian</td>\n",
              "      <td>Alexander</td>\n",
              "      <td>079 DET</td>\n",
              "      <td>3185</td>\n",
              "      <td>26353</td>\n",
              "      <td>8</td>\n",
              "      <td>2012</td>\n",
              "      <td>2</td>\n",
              "      <td>2014</td>\n",
              "      <td>...</td>\n",
              "      <td>27</td>\n",
              "      <td>Black</td>\n",
              "      <td>Male</td>\n",
              "      <td>35.0</td>\n",
              "      <td>Force</td>\n",
              "      <td>Pepper spray</td>\n",
              "      <td>79.0</td>\n",
              "      <td>PD suspected C/V of violation/crime - street</td>\n",
              "      <td>Arrest - OGA</td>\n",
              "      <td>Unsubstantiated</td>\n",
              "    </tr>\n",
              "    <tr>\n",
              "      <th>14</th>\n",
              "      <td>10026</td>\n",
              "      <td>Brian</td>\n",
              "      <td>Alexander</td>\n",
              "      <td>079 DET</td>\n",
              "      <td>3185</td>\n",
              "      <td>27482</td>\n",
              "      <td>3</td>\n",
              "      <td>2013</td>\n",
              "      <td>7</td>\n",
              "      <td>2014</td>\n",
              "      <td>...</td>\n",
              "      <td>27</td>\n",
              "      <td>Black</td>\n",
              "      <td>Female</td>\n",
              "      <td>42.0</td>\n",
              "      <td>Force</td>\n",
              "      <td>Physical force</td>\n",
              "      <td>79.0</td>\n",
              "      <td>Regulatory inspection</td>\n",
              "      <td>Arrest - other violation/crime</td>\n",
              "      <td>Exonerated</td>\n",
              "    </tr>\n",
              "    <tr>\n",
              "      <th>16</th>\n",
              "      <td>10026</td>\n",
              "      <td>Brian</td>\n",
              "      <td>Alexander</td>\n",
              "      <td>079 DET</td>\n",
              "      <td>3185</td>\n",
              "      <td>27482</td>\n",
              "      <td>3</td>\n",
              "      <td>2013</td>\n",
              "      <td>7</td>\n",
              "      <td>2014</td>\n",
              "      <td>...</td>\n",
              "      <td>27</td>\n",
              "      <td>Black</td>\n",
              "      <td>Male</td>\n",
              "      <td>46.0</td>\n",
              "      <td>Force</td>\n",
              "      <td>Handcuffs too tight</td>\n",
              "      <td>79.0</td>\n",
              "      <td>Regulatory inspection</td>\n",
              "      <td>Arrest - other violation/crime</td>\n",
              "      <td>Unsubstantiated</td>\n",
              "    </tr>\n",
              "    <tr>\n",
              "      <th>18</th>\n",
              "      <td>10026</td>\n",
              "      <td>Brian</td>\n",
              "      <td>Alexander</td>\n",
              "      <td>079 DET</td>\n",
              "      <td>3185</td>\n",
              "      <td>29270</td>\n",
              "      <td>10</td>\n",
              "      <td>2013</td>\n",
              "      <td>8</td>\n",
              "      <td>2014</td>\n",
              "      <td>...</td>\n",
              "      <td>28</td>\n",
              "      <td>Black</td>\n",
              "      <td>Female</td>\n",
              "      <td>30.0</td>\n",
              "      <td>Force</td>\n",
              "      <td>Physical force</td>\n",
              "      <td>79.0</td>\n",
              "      <td>PD suspected C/V of violation/crime - street</td>\n",
              "      <td>Arrest - other violation/crime</td>\n",
              "      <td>Unsubstantiated</td>\n",
              "    </tr>\n",
              "  </tbody>\n",
              "</table>\n",
              "<p>5 rows × 27 columns</p>\n",
              "</div>"
            ],
            "text/plain": [
              "    unique_mos_id first_name  last_name command_now  shield_no  complaint_id  \\\n",
              "4           10009      Noemi     Sierra     078 PCT      24058         40253   \n",
              "13          10026      Brian  Alexander     079 DET       3185         26353   \n",
              "14          10026      Brian  Alexander     079 DET       3185         27482   \n",
              "16          10026      Brian  Alexander     079 DET       3185         27482   \n",
              "18          10026      Brian  Alexander     079 DET       3185         29270   \n",
              "\n",
              "    month_received  year_received  month_closed  year_closed  ...  \\\n",
              "4                8           2018             2         2019  ...   \n",
              "13               8           2012             2         2014  ...   \n",
              "14               3           2013             7         2014  ...   \n",
              "16               3           2013             7         2014  ...   \n",
              "18              10           2013             8         2014  ...   \n",
              "\n",
              "   mos_age_incident complainant_ethnicity complainant_gender  \\\n",
              "4                39                   NaN                NaN   \n",
              "13               27                 Black               Male   \n",
              "14               27                 Black             Female   \n",
              "16               27                 Black               Male   \n",
              "18               28                 Black             Female   \n",
              "\n",
              "   complainant_age_incident fado_type           allegation precinct  \\\n",
              "4                      16.0     Force       Physical force     67.0   \n",
              "13                     35.0     Force         Pepper spray     79.0   \n",
              "14                     42.0     Force       Physical force     79.0   \n",
              "16                     46.0     Force  Handcuffs too tight     79.0   \n",
              "18                     30.0     Force       Physical force     79.0   \n",
              "\n",
              "                                  contact_reason  \\\n",
              "4                                 Report-dispute   \n",
              "13  PD suspected C/V of violation/crime - street   \n",
              "14                         Regulatory inspection   \n",
              "16                         Regulatory inspection   \n",
              "18  PD suspected C/V of violation/crime - street   \n",
              "\n",
              "               outcome_description                     board_disposition  \n",
              "4   Arrest - other violation/crime  Substantiated (Command Discipline A)  \n",
              "13                    Arrest - OGA                       Unsubstantiated  \n",
              "14  Arrest - other violation/crime                            Exonerated  \n",
              "16  Arrest - other violation/crime                       Unsubstantiated  \n",
              "18  Arrest - other violation/crime                       Unsubstantiated  \n",
              "\n",
              "[5 rows x 27 columns]"
            ]
          },
          "execution_count": 4,
          "metadata": {},
          "output_type": "execute_result"
        }
      ]
    },
    {
      "cell_type": "markdown",
      "metadata": {
        "id": "WwG0xfe3r6cU"
      },
      "source": [
        "New number of elements. This tells us that 22.8% of allegations are due to excessive force."
      ]
    },
    {
      "cell_type": "code",
      "metadata": {
        "id": "lLnxU5Yjr6cU",
        "outputId": "5cbe511f-92e0-41a3-8eae-ce642ecce1c0"
      },
      "source": [
        "#Filtered number of elements and variables\n",
        "physical.shape"
      ],
      "execution_count": null,
      "outputs": [
        {
          "data": {
            "text/plain": [
              "(7636, 27)"
            ]
          },
          "execution_count": 5,
          "metadata": {},
          "output_type": "execute_result"
        }
      ]
    },
    {
      "cell_type": "markdown",
      "metadata": {
        "id": "Iv1QQGxbr6cU"
      },
      "source": [
        "Filtering for a new number of variables in order to declutter."
      ]
    },
    {
      "cell_type": "code",
      "metadata": {
        "id": "4KasYirXr6cU",
        "outputId": "aea3da51-5b7e-43d1-b9b8-764e24651d41"
      },
      "source": [
        "#Filtering down number of columns to only the columns we will need\n",
        "physical=physical[[\"mos_ethnicity\",\"complainant_ethnicity\",\"fado_type\",\"allegation\",\"board_disposition\",\"month_received\",\"year_received\",\"mos_gender\"]].reset_index(drop=True)\n",
        "physical.head()"
      ],
      "execution_count": null,
      "outputs": [
        {
          "data": {
            "text/html": [
              "<div>\n",
              "<style scoped>\n",
              "    .dataframe tbody tr th:only-of-type {\n",
              "        vertical-align: middle;\n",
              "    }\n",
              "\n",
              "    .dataframe tbody tr th {\n",
              "        vertical-align: top;\n",
              "    }\n",
              "\n",
              "    .dataframe thead th {\n",
              "        text-align: right;\n",
              "    }\n",
              "</style>\n",
              "<table border=\"1\" class=\"dataframe\">\n",
              "  <thead>\n",
              "    <tr style=\"text-align: right;\">\n",
              "      <th></th>\n",
              "      <th>mos_ethnicity</th>\n",
              "      <th>complainant_ethnicity</th>\n",
              "      <th>fado_type</th>\n",
              "      <th>allegation</th>\n",
              "      <th>board_disposition</th>\n",
              "      <th>month_received</th>\n",
              "      <th>year_received</th>\n",
              "      <th>mos_gender</th>\n",
              "    </tr>\n",
              "  </thead>\n",
              "  <tbody>\n",
              "    <tr>\n",
              "      <th>0</th>\n",
              "      <td>Hispanic</td>\n",
              "      <td>NaN</td>\n",
              "      <td>Force</td>\n",
              "      <td>Physical force</td>\n",
              "      <td>Substantiated (Command Discipline A)</td>\n",
              "      <td>8</td>\n",
              "      <td>2018</td>\n",
              "      <td>F</td>\n",
              "    </tr>\n",
              "    <tr>\n",
              "      <th>1</th>\n",
              "      <td>White</td>\n",
              "      <td>Black</td>\n",
              "      <td>Force</td>\n",
              "      <td>Pepper spray</td>\n",
              "      <td>Unsubstantiated</td>\n",
              "      <td>8</td>\n",
              "      <td>2012</td>\n",
              "      <td>M</td>\n",
              "    </tr>\n",
              "    <tr>\n",
              "      <th>2</th>\n",
              "      <td>White</td>\n",
              "      <td>Black</td>\n",
              "      <td>Force</td>\n",
              "      <td>Physical force</td>\n",
              "      <td>Exonerated</td>\n",
              "      <td>3</td>\n",
              "      <td>2013</td>\n",
              "      <td>M</td>\n",
              "    </tr>\n",
              "    <tr>\n",
              "      <th>3</th>\n",
              "      <td>White</td>\n",
              "      <td>Black</td>\n",
              "      <td>Force</td>\n",
              "      <td>Handcuffs too tight</td>\n",
              "      <td>Unsubstantiated</td>\n",
              "      <td>3</td>\n",
              "      <td>2013</td>\n",
              "      <td>M</td>\n",
              "    </tr>\n",
              "    <tr>\n",
              "      <th>4</th>\n",
              "      <td>White</td>\n",
              "      <td>Black</td>\n",
              "      <td>Force</td>\n",
              "      <td>Physical force</td>\n",
              "      <td>Unsubstantiated</td>\n",
              "      <td>10</td>\n",
              "      <td>2013</td>\n",
              "      <td>M</td>\n",
              "    </tr>\n",
              "  </tbody>\n",
              "</table>\n",
              "</div>"
            ],
            "text/plain": [
              "  mos_ethnicity complainant_ethnicity fado_type           allegation  \\\n",
              "0      Hispanic                   NaN     Force       Physical force   \n",
              "1         White                 Black     Force         Pepper spray   \n",
              "2         White                 Black     Force       Physical force   \n",
              "3         White                 Black     Force  Handcuffs too tight   \n",
              "4         White                 Black     Force       Physical force   \n",
              "\n",
              "                      board_disposition  month_received  year_received  \\\n",
              "0  Substantiated (Command Discipline A)               8           2018   \n",
              "1                       Unsubstantiated               8           2012   \n",
              "2                            Exonerated               3           2013   \n",
              "3                       Unsubstantiated               3           2013   \n",
              "4                       Unsubstantiated              10           2013   \n",
              "\n",
              "  mos_gender  \n",
              "0          F  \n",
              "1          M  \n",
              "2          M  \n",
              "3          M  \n",
              "4          M  "
            ]
          },
          "execution_count": 6,
          "metadata": {},
          "output_type": "execute_result"
        }
      ]
    },
    {
      "cell_type": "markdown",
      "metadata": {
        "id": "QNDGngg7r6cU"
      },
      "source": [
        "Converting month and year column to datetime for further analysis."
      ]
    },
    {
      "cell_type": "code",
      "metadata": {
        "id": "uL9WzpzTr6cV",
        "outputId": "d73661ca-fba8-4c09-cc20-90d457900ab5"
      },
      "source": [
        "#Changing month and year into datetime format, day column remains 01\n",
        "physical[\"date\"]=physical[\"month_received\"].apply(lambda x : str(x)) + physical[\"year_received\"].apply(lambda x : str(x))\n",
        "physical[\"date\"]=pd.to_datetime(physical[\"date\"],format=\"%m%Y\")\n",
        "#physical=physical.drop(columns=[\"month_received\",\"year_received\"])\n",
        "physical.head()"
      ],
      "execution_count": null,
      "outputs": [
        {
          "data": {
            "text/html": [
              "<div>\n",
              "<style scoped>\n",
              "    .dataframe tbody tr th:only-of-type {\n",
              "        vertical-align: middle;\n",
              "    }\n",
              "\n",
              "    .dataframe tbody tr th {\n",
              "        vertical-align: top;\n",
              "    }\n",
              "\n",
              "    .dataframe thead th {\n",
              "        text-align: right;\n",
              "    }\n",
              "</style>\n",
              "<table border=\"1\" class=\"dataframe\">\n",
              "  <thead>\n",
              "    <tr style=\"text-align: right;\">\n",
              "      <th></th>\n",
              "      <th>mos_ethnicity</th>\n",
              "      <th>complainant_ethnicity</th>\n",
              "      <th>fado_type</th>\n",
              "      <th>allegation</th>\n",
              "      <th>board_disposition</th>\n",
              "      <th>month_received</th>\n",
              "      <th>year_received</th>\n",
              "      <th>mos_gender</th>\n",
              "      <th>date</th>\n",
              "    </tr>\n",
              "  </thead>\n",
              "  <tbody>\n",
              "    <tr>\n",
              "      <th>0</th>\n",
              "      <td>Hispanic</td>\n",
              "      <td>NaN</td>\n",
              "      <td>Force</td>\n",
              "      <td>Physical force</td>\n",
              "      <td>Substantiated (Command Discipline A)</td>\n",
              "      <td>8</td>\n",
              "      <td>2018</td>\n",
              "      <td>F</td>\n",
              "      <td>2018-08-01</td>\n",
              "    </tr>\n",
              "    <tr>\n",
              "      <th>1</th>\n",
              "      <td>White</td>\n",
              "      <td>Black</td>\n",
              "      <td>Force</td>\n",
              "      <td>Pepper spray</td>\n",
              "      <td>Unsubstantiated</td>\n",
              "      <td>8</td>\n",
              "      <td>2012</td>\n",
              "      <td>M</td>\n",
              "      <td>2012-08-01</td>\n",
              "    </tr>\n",
              "    <tr>\n",
              "      <th>2</th>\n",
              "      <td>White</td>\n",
              "      <td>Black</td>\n",
              "      <td>Force</td>\n",
              "      <td>Physical force</td>\n",
              "      <td>Exonerated</td>\n",
              "      <td>3</td>\n",
              "      <td>2013</td>\n",
              "      <td>M</td>\n",
              "      <td>2013-03-01</td>\n",
              "    </tr>\n",
              "    <tr>\n",
              "      <th>3</th>\n",
              "      <td>White</td>\n",
              "      <td>Black</td>\n",
              "      <td>Force</td>\n",
              "      <td>Handcuffs too tight</td>\n",
              "      <td>Unsubstantiated</td>\n",
              "      <td>3</td>\n",
              "      <td>2013</td>\n",
              "      <td>M</td>\n",
              "      <td>2013-03-01</td>\n",
              "    </tr>\n",
              "    <tr>\n",
              "      <th>4</th>\n",
              "      <td>White</td>\n",
              "      <td>Black</td>\n",
              "      <td>Force</td>\n",
              "      <td>Physical force</td>\n",
              "      <td>Unsubstantiated</td>\n",
              "      <td>10</td>\n",
              "      <td>2013</td>\n",
              "      <td>M</td>\n",
              "      <td>2013-10-01</td>\n",
              "    </tr>\n",
              "  </tbody>\n",
              "</table>\n",
              "</div>"
            ],
            "text/plain": [
              "  mos_ethnicity complainant_ethnicity fado_type           allegation  \\\n",
              "0      Hispanic                   NaN     Force       Physical force   \n",
              "1         White                 Black     Force         Pepper spray   \n",
              "2         White                 Black     Force       Physical force   \n",
              "3         White                 Black     Force  Handcuffs too tight   \n",
              "4         White                 Black     Force       Physical force   \n",
              "\n",
              "                      board_disposition  month_received  year_received  \\\n",
              "0  Substantiated (Command Discipline A)               8           2018   \n",
              "1                       Unsubstantiated               8           2012   \n",
              "2                            Exonerated               3           2013   \n",
              "3                       Unsubstantiated               3           2013   \n",
              "4                       Unsubstantiated              10           2013   \n",
              "\n",
              "  mos_gender       date  \n",
              "0          F 2018-08-01  \n",
              "1          M 2012-08-01  \n",
              "2          M 2013-03-01  \n",
              "3          M 2013-03-01  \n",
              "4          M 2013-10-01  "
            ]
          },
          "execution_count": 7,
          "metadata": {},
          "output_type": "execute_result"
        }
      ]
    },
    {
      "cell_type": "markdown",
      "metadata": {
        "id": "0kkug0qcr6cV"
      },
      "source": [
        "There are 845 null complainant_ethnicity. We will test the missingness of this column to others. There is a single allegation value that is null which we will leave alone for now and assess whether it needs to be addressed later."
      ]
    },
    {
      "cell_type": "code",
      "metadata": {
        "id": "n0E_-b_ir6cV",
        "outputId": "dca03e29-cdd6-4bee-8e85-b6854729a606"
      },
      "source": [
        "#Initial number of null elements\n",
        "physical.isnull().sum()"
      ],
      "execution_count": null,
      "outputs": [
        {
          "data": {
            "text/plain": [
              "mos_ethnicity              0\n",
              "complainant_ethnicity    845\n",
              "fado_type                  0\n",
              "allegation                 1\n",
              "board_disposition          0\n",
              "month_received             0\n",
              "year_received              0\n",
              "mos_gender                 0\n",
              "date                       0\n",
              "dtype: int64"
            ]
          },
          "execution_count": 8,
          "metadata": {},
          "output_type": "execute_result"
        }
      ]
    },
    {
      "cell_type": "markdown",
      "metadata": {
        "id": "2lF1LMQQr6cV"
      },
      "source": [
        "Due to the pressence of \"Refused\" and \"Unknown\", we need to evaluate them in context. These values not being a specific ethnicity means they can switched to Nan values as their non-answer is equivalent missing. Other race remains as it insinuates a race that isn't in the given options."
      ]
    },
    {
      "cell_type": "code",
      "metadata": {
        "id": "sSUoD4Qtr6cW",
        "outputId": "55c0c3c7-5fd6-40e2-a06d-d755519961da"
      },
      "source": [
        "#Unique complainant ethnicities, notice the unknown and refused will be changed to np.NaN. Other Race will remain as it implies not white\n",
        "physical[\"complainant_ethnicity\"].unique()"
      ],
      "execution_count": null,
      "outputs": [
        {
          "data": {
            "text/plain": [
              "array([nan, 'Black', 'Hispanic', 'Unknown', 'White', 'Asian',\n",
              "       'Other Race', 'Refused', 'American Indian'], dtype=object)"
            ]
          },
          "execution_count": 9,
          "metadata": {},
          "output_type": "execute_result"
        }
      ]
    },
    {
      "cell_type": "code",
      "metadata": {
        "id": "2afGWIsUr6cW"
      },
      "source": [
        "#Unknown and Refused become null\n",
        "physical[\"complainant_ethnicity\"]=physical[\"complainant_ethnicity\"].apply(lambda x: np.NaN if (x==\"Unknown\") or (x==\"Refused\") else x )"
      ],
      "execution_count": null,
      "outputs": []
    },
    {
      "cell_type": "markdown",
      "metadata": {
        "id": "rPS32m-or6cW"
      },
      "source": [
        "New unique values for our complainant_ethnicity column which means our previous assignments to NaN worked."
      ]
    },
    {
      "cell_type": "code",
      "metadata": {
        "id": "6mvyZl6or6cW",
        "outputId": "f55d860c-75fa-4e39-8364-48fa99cc382d"
      },
      "source": [
        "#Remaining ethnicities\n",
        "physical[\"complainant_ethnicity\"].unique()"
      ],
      "execution_count": null,
      "outputs": [
        {
          "data": {
            "text/plain": [
              "array([nan, 'Black', 'Hispanic', 'White', 'Asian', 'Other Race',\n",
              "       'American Indian'], dtype=object)"
            ]
          },
          "execution_count": 11,
          "metadata": {},
          "output_type": "execute_result"
        }
      ]
    },
    {
      "cell_type": "markdown",
      "metadata": {
        "id": "jGHZO65hr6cX"
      },
      "source": [
        "More missing values present which will increase the confidence we have in our missingness assessments."
      ]
    },
    {
      "cell_type": "code",
      "metadata": {
        "id": "-LdFm7gzr6cX",
        "outputId": "8c1893af-f312-40c9-e1b3-302810ea3af6"
      },
      "source": [
        "#New and increased number of null values\n",
        "physical.isnull().sum()"
      ],
      "execution_count": null,
      "outputs": [
        {
          "data": {
            "text/plain": [
              "mos_ethnicity               0\n",
              "complainant_ethnicity    1170\n",
              "fado_type                   0\n",
              "allegation                  1\n",
              "board_disposition           0\n",
              "month_received              0\n",
              "year_received               0\n",
              "mos_gender                  0\n",
              "date                        0\n",
              "dtype: int64"
            ]
          },
          "execution_count": 12,
          "metadata": {},
          "output_type": "execute_result"
        }
      ]
    },
    {
      "cell_type": "markdown",
      "metadata": {
        "id": "pMQj-1yar6cX"
      },
      "source": [
        "In order to keep our new missing values for our missingness assessment, we will create a new dataframe that drops these null values to continue our analysis and retain the other that still contains the null values."
      ]
    },
    {
      "cell_type": "code",
      "metadata": {
        "id": "8sDxLDtHr6cX",
        "outputId": "ebee7eeb-c23e-43f7-b0a4-0b941166e52f"
      },
      "source": [
        "#Filtering to remove null values. Stored in a new dataframe in order to reuse original for missingness test\n",
        "known = ['Black', 'Hispanic', 'White', 'Asian',\n",
        "       'Other Race', 'American Indian']\n",
        "physical1=physical.loc[physical['complainant_ethnicity'].isin(known)].reset_index(drop=True)\n",
        "physical1.head()"
      ],
      "execution_count": null,
      "outputs": [
        {
          "data": {
            "text/html": [
              "<div>\n",
              "<style scoped>\n",
              "    .dataframe tbody tr th:only-of-type {\n",
              "        vertical-align: middle;\n",
              "    }\n",
              "\n",
              "    .dataframe tbody tr th {\n",
              "        vertical-align: top;\n",
              "    }\n",
              "\n",
              "    .dataframe thead th {\n",
              "        text-align: right;\n",
              "    }\n",
              "</style>\n",
              "<table border=\"1\" class=\"dataframe\">\n",
              "  <thead>\n",
              "    <tr style=\"text-align: right;\">\n",
              "      <th></th>\n",
              "      <th>mos_ethnicity</th>\n",
              "      <th>complainant_ethnicity</th>\n",
              "      <th>fado_type</th>\n",
              "      <th>allegation</th>\n",
              "      <th>board_disposition</th>\n",
              "      <th>month_received</th>\n",
              "      <th>year_received</th>\n",
              "      <th>mos_gender</th>\n",
              "      <th>date</th>\n",
              "    </tr>\n",
              "  </thead>\n",
              "  <tbody>\n",
              "    <tr>\n",
              "      <th>0</th>\n",
              "      <td>White</td>\n",
              "      <td>Black</td>\n",
              "      <td>Force</td>\n",
              "      <td>Pepper spray</td>\n",
              "      <td>Unsubstantiated</td>\n",
              "      <td>8</td>\n",
              "      <td>2012</td>\n",
              "      <td>M</td>\n",
              "      <td>2012-08-01</td>\n",
              "    </tr>\n",
              "    <tr>\n",
              "      <th>1</th>\n",
              "      <td>White</td>\n",
              "      <td>Black</td>\n",
              "      <td>Force</td>\n",
              "      <td>Physical force</td>\n",
              "      <td>Exonerated</td>\n",
              "      <td>3</td>\n",
              "      <td>2013</td>\n",
              "      <td>M</td>\n",
              "      <td>2013-03-01</td>\n",
              "    </tr>\n",
              "    <tr>\n",
              "      <th>2</th>\n",
              "      <td>White</td>\n",
              "      <td>Black</td>\n",
              "      <td>Force</td>\n",
              "      <td>Handcuffs too tight</td>\n",
              "      <td>Unsubstantiated</td>\n",
              "      <td>3</td>\n",
              "      <td>2013</td>\n",
              "      <td>M</td>\n",
              "      <td>2013-03-01</td>\n",
              "    </tr>\n",
              "    <tr>\n",
              "      <th>3</th>\n",
              "      <td>White</td>\n",
              "      <td>Black</td>\n",
              "      <td>Force</td>\n",
              "      <td>Physical force</td>\n",
              "      <td>Unsubstantiated</td>\n",
              "      <td>10</td>\n",
              "      <td>2013</td>\n",
              "      <td>M</td>\n",
              "      <td>2013-10-01</td>\n",
              "    </tr>\n",
              "    <tr>\n",
              "      <th>4</th>\n",
              "      <td>Black</td>\n",
              "      <td>Hispanic</td>\n",
              "      <td>Force</td>\n",
              "      <td>Hit against inanimate object</td>\n",
              "      <td>Exonerated</td>\n",
              "      <td>12</td>\n",
              "      <td>2001</td>\n",
              "      <td>M</td>\n",
              "      <td>2001-12-01</td>\n",
              "    </tr>\n",
              "  </tbody>\n",
              "</table>\n",
              "</div>"
            ],
            "text/plain": [
              "  mos_ethnicity complainant_ethnicity fado_type                    allegation  \\\n",
              "0         White                 Black     Force                  Pepper spray   \n",
              "1         White                 Black     Force                Physical force   \n",
              "2         White                 Black     Force           Handcuffs too tight   \n",
              "3         White                 Black     Force                Physical force   \n",
              "4         Black              Hispanic     Force  Hit against inanimate object   \n",
              "\n",
              "  board_disposition  month_received  year_received mos_gender       date  \n",
              "0   Unsubstantiated               8           2012          M 2012-08-01  \n",
              "1        Exonerated               3           2013          M 2013-03-01  \n",
              "2   Unsubstantiated               3           2013          M 2013-03-01  \n",
              "3   Unsubstantiated              10           2013          M 2013-10-01  \n",
              "4        Exonerated              12           2001          M 2001-12-01  "
            ]
          },
          "execution_count": 13,
          "metadata": {},
          "output_type": "execute_result"
        }
      ]
    },
    {
      "cell_type": "markdown",
      "metadata": {
        "id": "4Q5iNUzXr6cX"
      },
      "source": [
        "No more null values in this new dataframe so we can continue with the analysis. Notice that the missing allegation value is now gone. This means it was in a row with a missing ethnicity."
      ]
    },
    {
      "cell_type": "code",
      "metadata": {
        "id": "Umzz6Wgsr6cX",
        "outputId": "1ac4aabd-9d73-43c0-a310-906b397e3612"
      },
      "source": [
        "#No more null values\n",
        "physical1.isnull().sum()"
      ],
      "execution_count": null,
      "outputs": [
        {
          "data": {
            "text/plain": [
              "mos_ethnicity            0\n",
              "complainant_ethnicity    0\n",
              "fado_type                0\n",
              "allegation               0\n",
              "board_disposition        0\n",
              "month_received           0\n",
              "year_received            0\n",
              "mos_gender               0\n",
              "date                     0\n",
              "dtype: int64"
            ]
          },
          "execution_count": 14,
          "metadata": {},
          "output_type": "execute_result"
        }
      ]
    },
    {
      "cell_type": "markdown",
      "metadata": {
        "id": "jWfIPHR5r6cY"
      },
      "source": [
        "There will be a new column created that contains whether the complainant is white or non-white in order to answer the research question later with our hypothesis test."
      ]
    },
    {
      "cell_type": "code",
      "metadata": {
        "id": "B6iNht7Yr6cY",
        "outputId": "296803b2-40c2-4c5a-f6c2-88f50cdfcbaf"
      },
      "source": [
        "#Grouping and adding new column to see white and nonwhite distributions\n",
        "physical1[\"white_nonwhite\"]=physical1[\"complainant_ethnicity\"].apply(lambda x: \"White\" if x==\"White\" else \"nonwhite\")\n",
        "physical1.head()"
      ],
      "execution_count": null,
      "outputs": [
        {
          "data": {
            "text/html": [
              "<div>\n",
              "<style scoped>\n",
              "    .dataframe tbody tr th:only-of-type {\n",
              "        vertical-align: middle;\n",
              "    }\n",
              "\n",
              "    .dataframe tbody tr th {\n",
              "        vertical-align: top;\n",
              "    }\n",
              "\n",
              "    .dataframe thead th {\n",
              "        text-align: right;\n",
              "    }\n",
              "</style>\n",
              "<table border=\"1\" class=\"dataframe\">\n",
              "  <thead>\n",
              "    <tr style=\"text-align: right;\">\n",
              "      <th></th>\n",
              "      <th>mos_ethnicity</th>\n",
              "      <th>complainant_ethnicity</th>\n",
              "      <th>fado_type</th>\n",
              "      <th>allegation</th>\n",
              "      <th>board_disposition</th>\n",
              "      <th>month_received</th>\n",
              "      <th>year_received</th>\n",
              "      <th>mos_gender</th>\n",
              "      <th>date</th>\n",
              "      <th>white_nonwhite</th>\n",
              "    </tr>\n",
              "  </thead>\n",
              "  <tbody>\n",
              "    <tr>\n",
              "      <th>0</th>\n",
              "      <td>White</td>\n",
              "      <td>Black</td>\n",
              "      <td>Force</td>\n",
              "      <td>Pepper spray</td>\n",
              "      <td>Unsubstantiated</td>\n",
              "      <td>8</td>\n",
              "      <td>2012</td>\n",
              "      <td>M</td>\n",
              "      <td>2012-08-01</td>\n",
              "      <td>nonwhite</td>\n",
              "    </tr>\n",
              "    <tr>\n",
              "      <th>1</th>\n",
              "      <td>White</td>\n",
              "      <td>Black</td>\n",
              "      <td>Force</td>\n",
              "      <td>Physical force</td>\n",
              "      <td>Exonerated</td>\n",
              "      <td>3</td>\n",
              "      <td>2013</td>\n",
              "      <td>M</td>\n",
              "      <td>2013-03-01</td>\n",
              "      <td>nonwhite</td>\n",
              "    </tr>\n",
              "    <tr>\n",
              "      <th>2</th>\n",
              "      <td>White</td>\n",
              "      <td>Black</td>\n",
              "      <td>Force</td>\n",
              "      <td>Handcuffs too tight</td>\n",
              "      <td>Unsubstantiated</td>\n",
              "      <td>3</td>\n",
              "      <td>2013</td>\n",
              "      <td>M</td>\n",
              "      <td>2013-03-01</td>\n",
              "      <td>nonwhite</td>\n",
              "    </tr>\n",
              "    <tr>\n",
              "      <th>3</th>\n",
              "      <td>White</td>\n",
              "      <td>Black</td>\n",
              "      <td>Force</td>\n",
              "      <td>Physical force</td>\n",
              "      <td>Unsubstantiated</td>\n",
              "      <td>10</td>\n",
              "      <td>2013</td>\n",
              "      <td>M</td>\n",
              "      <td>2013-10-01</td>\n",
              "      <td>nonwhite</td>\n",
              "    </tr>\n",
              "    <tr>\n",
              "      <th>4</th>\n",
              "      <td>Black</td>\n",
              "      <td>Hispanic</td>\n",
              "      <td>Force</td>\n",
              "      <td>Hit against inanimate object</td>\n",
              "      <td>Exonerated</td>\n",
              "      <td>12</td>\n",
              "      <td>2001</td>\n",
              "      <td>M</td>\n",
              "      <td>2001-12-01</td>\n",
              "      <td>nonwhite</td>\n",
              "    </tr>\n",
              "  </tbody>\n",
              "</table>\n",
              "</div>"
            ],
            "text/plain": [
              "  mos_ethnicity complainant_ethnicity fado_type                    allegation  \\\n",
              "0         White                 Black     Force                  Pepper spray   \n",
              "1         White                 Black     Force                Physical force   \n",
              "2         White                 Black     Force           Handcuffs too tight   \n",
              "3         White                 Black     Force                Physical force   \n",
              "4         Black              Hispanic     Force  Hit against inanimate object   \n",
              "\n",
              "  board_disposition  month_received  year_received mos_gender       date  \\\n",
              "0   Unsubstantiated               8           2012          M 2012-08-01   \n",
              "1        Exonerated               3           2013          M 2013-03-01   \n",
              "2   Unsubstantiated               3           2013          M 2013-03-01   \n",
              "3   Unsubstantiated              10           2013          M 2013-10-01   \n",
              "4        Exonerated              12           2001          M 2001-12-01   \n",
              "\n",
              "  white_nonwhite  \n",
              "0       nonwhite  \n",
              "1       nonwhite  \n",
              "2       nonwhite  \n",
              "3       nonwhite  \n",
              "4       nonwhite  "
            ]
          },
          "execution_count": 15,
          "metadata": {},
          "output_type": "execute_result"
        }
      ]
    },
    {
      "cell_type": "markdown",
      "metadata": {
        "id": "nWQuG5SNr6cY"
      },
      "source": [
        "By looking at this distribution of ethnicities, it is made clear which groups file the most excessive force complaints. Black complainants are staggeringly more likely than others with over 4000 complaints in the 35 year time frame. Hispanic complainants are below half of the first with over 1500 and white in third with around 500 in total."
      ]
    },
    {
      "cell_type": "code",
      "metadata": {
        "id": "cSKgT09Br6cY",
        "outputId": "d42840e2-4a4a-40da-fbc0-ab1ba335b8f2"
      },
      "source": [
        "#Distribution of number of complaints per individual ethnicity\n",
        "physical1.groupby(\"complainant_ethnicity\").count().reset_index().sort_values(by=\"allegation\",ascending=False).plot(kind=\"bar\",y=\"allegation\",x=\"complainant_ethnicity\")\n",
        "plt.xlabel(\"Ethnicities\")\n",
        "plt.ylabel(\"count\")\n",
        "plt.title(\"Number of Complaints Filed per Complainant Ethnicity\")"
      ],
      "execution_count": null,
      "outputs": [
        {
          "data": {
            "text/plain": [
              "Text(0.5, 1.0, 'Number of Complaints Filed per Complainant Ethnicity')"
            ]
          },
          "execution_count": 16,
          "metadata": {},
          "output_type": "execute_result"
        },
        {
          "data": {
            "image/png": "[encoded data removed]",
            "text/plain": [
              "<Figure size 432x288 with 1 Axes>"
            ]
          },
          "metadata": {
            "image/png": {
              "height": 349,
              "width": 395
            },
            "needs_background": "light"
          },
          "output_type": "display_data"
        }
      ]
    },
    {
      "cell_type": "markdown",
      "metadata": {
        "id": "VygZrhZhr6cY"
      },
      "source": [
        "The distribution of the number of allegations made against officer's of different ethnicities shows that they are the most common. So far, complainants are significantly more likely to be black or hispanic and officer's facing the allegations are more likely to be white."
      ]
    },
    {
      "cell_type": "code",
      "metadata": {
        "id": "JjOPpzhvr6cY",
        "outputId": "d0b2b530-a3e4-4ac6-91fc-4f1ebe9066f6"
      },
      "source": [
        "#Distribution of number of complaints per officer ethnicity\n",
        "physical1.groupby(\"mos_ethnicity\").count().reset_index().sort_values(by=\"allegation\",ascending=False).plot(kind=\"bar\",y=\"allegation\",x=\"mos_ethnicity\")\n",
        "plt.xlabel(\"Ethnicities\")\n",
        "plt.ylabel(\"count\")\n",
        "plt.title(\"Number of Complaints Filed per Officer Ethnicity\")"
      ],
      "execution_count": null,
      "outputs": [
        {
          "data": {
            "text/plain": [
              "Text(0.5, 1.0, 'Number of Complaints Filed per Officer Ethnicity')"
            ]
          },
          "execution_count": 17,
          "metadata": {},
          "output_type": "execute_result"
        },
        {
          "data": {
            "image/png": "[encoded data removed]",
            "text/plain": [
              "<Figure size 432x288 with 1 Axes>"
            ]
          },
          "metadata": {
            "image/png": {
              "height": 349,
              "width": 395
            },
            "needs_background": "light"
          },
          "output_type": "display_data"
        }
      ]
    },
    {
      "cell_type": "markdown",
      "metadata": {
        "id": "IIEYhW10r6cZ"
      },
      "source": [
        "However, it is important to note that the CCRB only substantiate a very small chunk of the number of excessive force allegations they receive. We will be assessing the distribution of complainant_ethnicities within this small group."
      ]
    },
    {
      "cell_type": "code",
      "metadata": {
        "id": "odUq6kvSr6cZ",
        "outputId": "b1629656-3350-4a30-bf02-e6a4eef699bf"
      },
      "source": [
        "#Bar plot, most physical force complaints are ultimately not substantiated\n",
        "physical1.groupby(\"board_disposition\").count().reset_index().plot(kind=\"bar\",x=\"board_disposition\",stacked=False,y=\"allegation\")"
      ],
      "execution_count": null,
      "outputs": [
        {
          "data": {
            "text/plain": [
              "<AxesSubplot:xlabel='board_disposition'>"
            ]
          },
          "execution_count": 18,
          "metadata": {},
          "output_type": "execute_result"
        },
        {
          "data": {
            "image/png": "[encoded data removed]",
            "text/plain": [
              "<Figure size 432x288 with 1 Axes>"
            ]
          },
          "metadata": {
            "image/png": {
              "height": 465,
              "width": 381
            },
            "needs_background": "light"
          },
          "output_type": "display_data"
        }
      ]
    },
    {
      "cell_type": "markdown",
      "metadata": {
        "id": "fd2UtdS9r6cZ"
      },
      "source": [
        "The trend of allegations made per year can demonstrate any possible deviations that may have occured when this data was being recorded. Notably, there is a dip around 2017-2019. This means that we can check if the data we have been observing shifts as a result of this dip."
      ]
    },
    {
      "cell_type": "code",
      "metadata": {
        "id": "F8wqNXskr6cZ",
        "outputId": "ca49ac57-e487-4b68-fc90-437206ab7fdb"
      },
      "source": [
        "#Lineplot for number of allegations received per year\n",
        "physical1.groupby(\"year_received\").count().reset_index().plot(kind=\"line\",x=\"year_received\",y=\"allegation\",title=\"Distribution of Number of Allegations Made Per Year\")"
      ],
      "execution_count": null,
      "outputs": [
        {
          "data": {
            "text/plain": [
              "<AxesSubplot:title={'center':'Distribution of Number of Allegations Made Per Year'}, xlabel='year_received'>"
            ]
          },
          "execution_count": 19,
          "metadata": {},
          "output_type": "execute_result"
        },
        {
          "data": {
            "image/png": "[encoded data removed]",
            "text/plain": [
              "<Figure size 432x288 with 1 Axes>"
            ]
          },
          "metadata": {
            "image/png": {
              "height": 277,
              "width": 387
            },
            "needs_background": "light"
          },
          "output_type": "display_data"
        }
      ]
    },
    {
      "cell_type": "markdown",
      "metadata": {
        "id": "u_1WeqUkr6cZ"
      },
      "source": [
        "By visualizing the scatterplot of the month and number of allegations made, there is a notable dip in number of allegations per month so we will see if this affects or skews the previous statistics observed."
      ]
    },
    {
      "cell_type": "code",
      "metadata": {
        "id": "wGs_oEDqr6cZ",
        "outputId": "73ff449c-e882-4576-a9c5-deb03059c2ee"
      },
      "source": [
        "physical1.groupby(\"date\").count().reset_index().plot(kind=\"scatter\",x=\"date\",y=\"allegation\",title=\"Distribution of Number of Allegations Made Per Month\")"
      ],
      "execution_count": null,
      "outputs": [
        {
          "data": {
            "text/plain": [
              "<AxesSubplot:title={'center':'Distribution of Number of Allegations Made Per Month'}, xlabel='date', ylabel='allegation'>"
            ]
          },
          "execution_count": 20,
          "metadata": {},
          "output_type": "execute_result"
        },
        {
          "data": {
            "image/png": "[encoded data removed]",
            "text/plain": [
              "<Figure size 432x288 with 1 Axes>"
            ]
          },
          "metadata": {
            "image/png": {
              "height": 277,
              "width": 382
            },
            "needs_background": "light"
          },
          "output_type": "display_data"
        }
      ]
    },
    {
      "cell_type": "markdown",
      "metadata": {
        "id": "Ft7tzrtSr6ca"
      },
      "source": [
        "However, upon evaluation of this time frame it is clear that order and distribution count of complainant_ethnicity count remains the same."
      ]
    },
    {
      "cell_type": "code",
      "metadata": {
        "id": "FnW6DqCKr6ca",
        "outputId": "bcebf466-f6ad-45d4-fa6f-b04772ed4fa7"
      },
      "source": [
        "physical1[physical1[\"year_received\"]>=2017].groupby([\"year_received\",\"complainant_ethnicity\"]).count().reset_index().groupby([\"complainant_ethnicity\"]).sum()[\"mos_ethnicity\"]"
      ],
      "execution_count": null,
      "outputs": [
        {
          "data": {
            "text/plain": [
              "complainant_ethnicity\n",
              "American Indian      2\n",
              "Asian               22\n",
              "Black              464\n",
              "Hispanic           222\n",
              "Other Race          27\n",
              "White              105\n",
              "Name: mos_ethnicity, dtype: int64"
            ]
          },
          "execution_count": 21,
          "metadata": {},
          "output_type": "execute_result"
        }
      ]
    },
    {
      "cell_type": "markdown",
      "metadata": {
        "id": "xSK2by_6r6ca"
      },
      "source": [
        "Through a pivot table, the number of allegations made by white and non-white are both visualized and will be used to get proportions."
      ]
    },
    {
      "cell_type": "code",
      "metadata": {
        "id": "HWb5Xez0r6ca",
        "outputId": "d0458312-4615-4232-987c-f2e3aa7acaf1"
      },
      "source": [
        "#Pivot table of number of allegations made by white and nonwhhite complainants\n",
        "counts=pd.pivot_table(data=physical1.groupby(\"white_nonwhite\").count(),index=\"white_nonwhite\",values=\"allegation\")\n",
        "counts"
      ],
      "execution_count": null,
      "outputs": [
        {
          "data": {
            "text/html": [
              "<div>\n",
              "<style scoped>\n",
              "    .dataframe tbody tr th:only-of-type {\n",
              "        vertical-align: middle;\n",
              "    }\n",
              "\n",
              "    .dataframe tbody tr th {\n",
              "        vertical-align: top;\n",
              "    }\n",
              "\n",
              "    .dataframe thead th {\n",
              "        text-align: right;\n",
              "    }\n",
              "</style>\n",
              "<table border=\"1\" class=\"dataframe\">\n",
              "  <thead>\n",
              "    <tr style=\"text-align: right;\">\n",
              "      <th></th>\n",
              "      <th>allegation</th>\n",
              "    </tr>\n",
              "    <tr>\n",
              "      <th>white_nonwhite</th>\n",
              "      <th></th>\n",
              "    </tr>\n",
              "  </thead>\n",
              "  <tbody>\n",
              "    <tr>\n",
              "      <th>White</th>\n",
              "      <td>553</td>\n",
              "    </tr>\n",
              "    <tr>\n",
              "      <th>nonwhite</th>\n",
              "      <td>5913</td>\n",
              "    </tr>\n",
              "  </tbody>\n",
              "</table>\n",
              "</div>"
            ],
            "text/plain": [
              "                allegation\n",
              "white_nonwhite            \n",
              "White                  553\n",
              "nonwhite              5913"
            ]
          },
          "execution_count": 22,
          "metadata": {},
          "output_type": "execute_result"
        }
      ]
    },
    {
      "cell_type": "markdown",
      "metadata": {
        "id": "gDHdvd9Wr6ca"
      },
      "source": [
        "A second pivot table is created to find the number of substantiated claims for the two different groups."
      ]
    },
    {
      "cell_type": "code",
      "metadata": {
        "id": "euJCuoOlr6ca",
        "outputId": "2830f66a-5ccd-4820-f5b2-3ef7945246e9"
      },
      "source": [
        "#Pivot table of number of substantiated allegations made by white and nonwhhite complainants\n",
        "substantiated=pd.pivot_table(data=physical1[physical1[\"board_disposition\"].str.contains(\"Substantiated\")].groupby(\"white_nonwhite\").count().reset_index(),index=\"white_nonwhite\",values=\"allegation\")\n",
        "substantiated"
      ],
      "execution_count": null,
      "outputs": [
        {
          "data": {
            "text/html": [
              "<div>\n",
              "<style scoped>\n",
              "    .dataframe tbody tr th:only-of-type {\n",
              "        vertical-align: middle;\n",
              "    }\n",
              "\n",
              "    .dataframe tbody tr th {\n",
              "        vertical-align: top;\n",
              "    }\n",
              "\n",
              "    .dataframe thead th {\n",
              "        text-align: right;\n",
              "    }\n",
              "</style>\n",
              "<table border=\"1\" class=\"dataframe\">\n",
              "  <thead>\n",
              "    <tr style=\"text-align: right;\">\n",
              "      <th></th>\n",
              "      <th>allegation</th>\n",
              "    </tr>\n",
              "    <tr>\n",
              "      <th>white_nonwhite</th>\n",
              "      <th></th>\n",
              "    </tr>\n",
              "  </thead>\n",
              "  <tbody>\n",
              "    <tr>\n",
              "      <th>White</th>\n",
              "      <td>75</td>\n",
              "    </tr>\n",
              "    <tr>\n",
              "      <th>nonwhite</th>\n",
              "      <td>635</td>\n",
              "    </tr>\n",
              "  </tbody>\n",
              "</table>\n",
              "</div>"
            ],
            "text/plain": [
              "                allegation\n",
              "white_nonwhite            \n",
              "White                   75\n",
              "nonwhite               635"
            ]
          },
          "execution_count": 23,
          "metadata": {},
          "output_type": "execute_result"
        }
      ]
    },
    {
      "cell_type": "markdown",
      "metadata": {
        "id": "e6o4EBkUr6ca"
      },
      "source": [
        "The final pivot table shows the proportion of allegations that are substantiated for each complainant group. White is around 33% higher."
      ]
    },
    {
      "cell_type": "code",
      "metadata": {
        "id": "aQa2Pmvyr6cb",
        "outputId": "eb909931-78eb-47ba-dfbd-efe35de6901c"
      },
      "source": [
        "#Pivot table of proportion of substantiated allegations made by white and nonwhhite complainants\n",
        "proportions=substantiated/counts\n",
        "proportions"
      ],
      "execution_count": null,
      "outputs": [
        {
          "data": {
            "text/html": [
              "<div>\n",
              "<style scoped>\n",
              "    .dataframe tbody tr th:only-of-type {\n",
              "        vertical-align: middle;\n",
              "    }\n",
              "\n",
              "    .dataframe tbody tr th {\n",
              "        vertical-align: top;\n",
              "    }\n",
              "\n",
              "    .dataframe thead th {\n",
              "        text-align: right;\n",
              "    }\n",
              "</style>\n",
              "<table border=\"1\" class=\"dataframe\">\n",
              "  <thead>\n",
              "    <tr style=\"text-align: right;\">\n",
              "      <th></th>\n",
              "      <th>allegation</th>\n",
              "    </tr>\n",
              "    <tr>\n",
              "      <th>white_nonwhite</th>\n",
              "      <th></th>\n",
              "    </tr>\n",
              "  </thead>\n",
              "  <tbody>\n",
              "    <tr>\n",
              "      <th>White</th>\n",
              "      <td>0.135624</td>\n",
              "    </tr>\n",
              "    <tr>\n",
              "      <th>nonwhite</th>\n",
              "      <td>0.107390</td>\n",
              "    </tr>\n",
              "  </tbody>\n",
              "</table>\n",
              "</div>"
            ],
            "text/plain": [
              "                allegation\n",
              "white_nonwhite            \n",
              "White             0.135624\n",
              "nonwhite          0.107390"
            ]
          },
          "execution_count": 24,
          "metadata": {},
          "output_type": "execute_result"
        }
      ]
    },
    {
      "cell_type": "markdown",
      "metadata": {
        "id": "gbqeOa9lr6cb"
      },
      "source": [
        "### Assessment of Missingness"
      ]
    },
    {
      "cell_type": "markdown",
      "metadata": {
        "id": "Yqw-OM3xr6cb"
      },
      "source": [
        "Finding the null values in our original dataframe that was preserved for missingness assessment."
      ]
    },
    {
      "cell_type": "code",
      "metadata": {
        "ExecuteTime": {
          "end_time": "2019-10-31T23:36:28.662099Z",
          "start_time": "2019-10-31T23:36:28.660016Z"
        },
        "id": "Qqc_4EEnr6cb"
      },
      "source": [
        "#Get null vales for complainant ethnicities\n",
        "physical[\"com_ethnicity_isnull\"]=physical.complainant_ethnicity.isnull()"
      ],
      "execution_count": null,
      "outputs": []
    },
    {
      "cell_type": "markdown",
      "metadata": {
        "id": "UJo02Pdzr6cb"
      },
      "source": [
        "Distribution of officer ethnicity and missingness of complainant ethnicity in order to assess missingness quality of complainant_ethnicity. Visually, complainant_ethnicity is missing more often if the officer is white in relation to the other ethnicities who have more False values for null than True."
      ]
    },
    {
      "cell_type": "code",
      "metadata": {
        "id": "UUQJshJBr6cb",
        "outputId": "e36c6d43-849f-4e12-a13b-0c4b3471bc34"
      },
      "source": [
        "#Distribution of officer ethnicity and missingness of complainant ethnicity\n",
        "emp_distribution=physical.pivot_table(columns=\"com_ethnicity_isnull\",index=\"mos_ethnicity\",values=None,aggfunc=\"size\").fillna(0).apply(lambda x: x/x.sum())\n",
        "emp_distribution.plot(kind=\"bar\",title=\"Distribution of Officer Ethnicity\");"
      ],
      "execution_count": null,
      "outputs": [
        {
          "data": {
            "image/png": "[encoded data removed]",
            "text/plain": [
              "<Figure size 432x288 with 1 Axes>"
            ]
          },
          "metadata": {
            "image/png": {
              "height": 350,
              "width": 372
            },
            "needs_background": "light"
          },
          "output_type": "display_data"
        }
      ]
    },
    {
      "cell_type": "markdown",
      "metadata": {
        "id": "D-CU5sC2r6cb"
      },
      "source": [
        "Pivot table to be used for the missingness TVD test since both variables are categorical."
      ]
    },
    {
      "cell_type": "code",
      "metadata": {
        "id": "5XCVASnOr6cc",
        "outputId": "23d36c31-312a-4e7a-c79e-77af6d1208d6"
      },
      "source": [
        "#Pivot table for officer ethnicity effect on missingness of complainant ethnicity\n",
        "emp_distribution"
      ],
      "execution_count": null,
      "outputs": [
        {
          "data": {
            "text/html": [
              "<div>\n",
              "<style scoped>\n",
              "    .dataframe tbody tr th:only-of-type {\n",
              "        vertical-align: middle;\n",
              "    }\n",
              "\n",
              "    .dataframe tbody tr th {\n",
              "        vertical-align: top;\n",
              "    }\n",
              "\n",
              "    .dataframe thead th {\n",
              "        text-align: right;\n",
              "    }\n",
              "</style>\n",
              "<table border=\"1\" class=\"dataframe\">\n",
              "  <thead>\n",
              "    <tr style=\"text-align: right;\">\n",
              "      <th>com_ethnicity_isnull</th>\n",
              "      <th>False</th>\n",
              "      <th>True</th>\n",
              "    </tr>\n",
              "    <tr>\n",
              "      <th>mos_ethnicity</th>\n",
              "      <th></th>\n",
              "      <th></th>\n",
              "    </tr>\n",
              "  </thead>\n",
              "  <tbody>\n",
              "    <tr>\n",
              "      <th>American Indian</th>\n",
              "      <td>0.000773</td>\n",
              "      <td>0.000000</td>\n",
              "    </tr>\n",
              "    <tr>\n",
              "      <th>Asian</th>\n",
              "      <td>0.035107</td>\n",
              "      <td>0.022222</td>\n",
              "    </tr>\n",
              "    <tr>\n",
              "      <th>Black</th>\n",
              "      <td>0.151562</td>\n",
              "      <td>0.141026</td>\n",
              "    </tr>\n",
              "    <tr>\n",
              "      <th>Hispanic</th>\n",
              "      <td>0.295237</td>\n",
              "      <td>0.200000</td>\n",
              "    </tr>\n",
              "    <tr>\n",
              "      <th>White</th>\n",
              "      <td>0.517321</td>\n",
              "      <td>0.636752</td>\n",
              "    </tr>\n",
              "  </tbody>\n",
              "</table>\n",
              "</div>"
            ],
            "text/plain": [
              "com_ethnicity_isnull     False     True \n",
              "mos_ethnicity                           \n",
              "American Indian       0.000773  0.000000\n",
              "Asian                 0.035107  0.022222\n",
              "Black                 0.151562  0.141026\n",
              "Hispanic              0.295237  0.200000\n",
              "White                 0.517321  0.636752"
            ]
          },
          "execution_count": 27,
          "metadata": {},
          "output_type": "execute_result"
        }
      ]
    },
    {
      "cell_type": "markdown",
      "metadata": {
        "id": "3pGBEsttr6cc"
      },
      "source": [
        "Finding the observed TVD."
      ]
    },
    {
      "cell_type": "code",
      "metadata": {
        "id": "2SP8UHXPr6cc",
        "outputId": "2c3a2e1d-630d-4276-b0c3-59229116fe50"
      },
      "source": [
        "#observed TVD\n",
        "obs_tvd=np.sum(np.abs(emp_distribution.diff(axis=1).iloc[:,-1]))/2\n",
        "obs_tvd"
      ],
      "execution_count": null,
      "outputs": [
        {
          "data": {
            "text/plain": [
              "0.11943076341467929"
            ]
          },
          "execution_count": 28,
          "metadata": {},
          "output_type": "execute_result"
        }
      ]
    },
    {
      "cell_type": "markdown",
      "metadata": {
        "id": "-fPIZf7tr6cc"
      },
      "source": [
        "Permutation test to assess complainant_ethnicity missingness dependency on mos_ethnicity."
      ]
    },
    {
      "cell_type": "code",
      "metadata": {
        "id": "V0wyWWbzr6cc"
      },
      "source": [
        "#Permutation test\n",
        "n=1000\n",
        "officer_ethn=physical.copy()[[\"mos_ethnicity\",\"com_ethnicity_isnull\"]]\n",
        "tvds=[]\n",
        "for i in range(n):\n",
        "    shuffled_off=officer_ethn[\"mos_ethnicity\"].sample(replace=False,frac=1).reset_index(drop=True)\n",
        "    shuffled=officer_ethn.assign(**{'Shuffled Ethnicity': shuffled_off})\n",
        "    shuffled_emp=shuffled.pivot_table(index=\"Shuffled Ethnicity\",columns=\"com_ethnicity_isnull\",values=None,aggfunc=\"size\").fillna(0).apply(lambda x:x/x.sum())\n",
        "    tvd=np.sum(np.abs(shuffled_emp.diff(axis=1).iloc[:,-1]))/2\n",
        "    tvds.append(tvd)"
      ],
      "execution_count": null,
      "outputs": []
    },
    {
      "cell_type": "markdown",
      "metadata": {
        "id": "H-B7nTnMr6cc"
      },
      "source": [
        "Observed TVD is clearly not near the test distribution but still will check p-value."
      ]
    },
    {
      "cell_type": "code",
      "metadata": {
        "id": "F3Ph3eVmr6cd",
        "outputId": "d5c629bb-6694-4f94-845a-e2bbf3d0bef3"
      },
      "source": [
        "#Histogram of missingness of complainant ethnicity's dependence on officer ethnicity\n",
        "pd.Series(tvds).plot(kind=\"hist\",density=True,alpha=0.9,title=\"Missingness of Complainant Ethnicity's Dependence on Officer Ethnicity\")\n",
        "plt.scatter(obs_tvd,0,color=\"red\",s=40,zorder=10)"
      ],
      "execution_count": null,
      "outputs": [
        {
          "data": {
            "text/plain": [
              "<matplotlib.collections.PathCollection at 0x7f85bc8ef490>"
            ]
          },
          "execution_count": 30,
          "metadata": {},
          "output_type": "execute_result"
        },
        {
          "data": {
            "image/png": "[encoded data removed]",
            "text/plain": [
              "<Figure size 432x288 with 1 Axes>"
            ]
          },
          "metadata": {
            "image/png": {
              "height": 263,
              "width": 446
            },
            "needs_background": "light"
          },
          "output_type": "display_data"
        }
      ]
    },
    {
      "cell_type": "markdown",
      "metadata": {
        "id": "xvM1UXXMr6cd"
      },
      "source": [
        "P-value being 0 with a significance level of 0.01 demonstrates that the complainant_ethnicity missingness is dependent on mos_ethnicity."
      ]
    },
    {
      "cell_type": "code",
      "metadata": {
        "id": "33U8xkS4r6cd",
        "outputId": "7c913727-a3c9-4dae-eeb3-d2606c99adb9"
      },
      "source": [
        "#p-value\n",
        "np.count_nonzero(tvds>=obs_tvd) / len(tvds)"
      ],
      "execution_count": null,
      "outputs": [
        {
          "data": {
            "text/plain": [
              "0.0"
            ]
          },
          "execution_count": 31,
          "metadata": {},
          "output_type": "execute_result"
        }
      ]
    },
    {
      "cell_type": "markdown",
      "metadata": {
        "id": "9qoFp6DHr6cd"
      },
      "source": [
        "Now will assess complainant_ethnicity missingness dependency on mos_gender. It is proportionally null more often for male officers than female."
      ]
    },
    {
      "cell_type": "code",
      "metadata": {
        "id": "pa0YsxDfr6cd",
        "outputId": "332f84f4-b230-4284-cef3-8ce8ca8ef2cc"
      },
      "source": [
        "#Distribution for officer gender effect on missingness of complainant ethnicity\n",
        "emp_distribution1=physical.pivot_table(columns=\"com_ethnicity_isnull\",index=\"mos_gender\",values=None,aggfunc=\"size\").fillna(0).apply(lambda x: x/x.sum())\n",
        "emp_distribution1.plot(kind=\"bar\",title=\"Distribution of Officer Gender\");"
      ],
      "execution_count": null,
      "outputs": [
        {
          "data": {
            "image/png": "[encoded data removed]",
            "text/plain": [
              "<Figure size 432x288 with 1 Axes>"
            ]
          },
          "metadata": {
            "image/png": {
              "height": 277,
              "width": 372
            },
            "needs_background": "light"
          },
          "output_type": "display_data"
        }
      ]
    },
    {
      "cell_type": "markdown",
      "metadata": {
        "id": "A8V3NUa9r6cd"
      },
      "source": [
        "Pivot table to be used for our permutations test for officer gender effect on missingness of complainant ethnicity."
      ]
    },
    {
      "cell_type": "code",
      "metadata": {
        "id": "CkLrKH_Ar6cd",
        "outputId": "9a070b3e-b532-48c1-cbfa-38637ba544ef"
      },
      "source": [
        "#Pivot table for officer gender effect on missingness of complainant ethnicity\n",
        "emp_distribution1"
      ],
      "execution_count": null,
      "outputs": [
        {
          "data": {
            "text/html": [
              "<div>\n",
              "<style scoped>\n",
              "    .dataframe tbody tr th:only-of-type {\n",
              "        vertical-align: middle;\n",
              "    }\n",
              "\n",
              "    .dataframe tbody tr th {\n",
              "        vertical-align: top;\n",
              "    }\n",
              "\n",
              "    .dataframe thead th {\n",
              "        text-align: right;\n",
              "    }\n",
              "</style>\n",
              "<table border=\"1\" class=\"dataframe\">\n",
              "  <thead>\n",
              "    <tr style=\"text-align: right;\">\n",
              "      <th>com_ethnicity_isnull</th>\n",
              "      <th>False</th>\n",
              "      <th>True</th>\n",
              "    </tr>\n",
              "    <tr>\n",
              "      <th>mos_gender</th>\n",
              "      <th></th>\n",
              "      <th></th>\n",
              "    </tr>\n",
              "  </thead>\n",
              "  <tbody>\n",
              "    <tr>\n",
              "      <th>F</th>\n",
              "      <td>0.037581</td>\n",
              "      <td>0.023932</td>\n",
              "    </tr>\n",
              "    <tr>\n",
              "      <th>M</th>\n",
              "      <td>0.962419</td>\n",
              "      <td>0.976068</td>\n",
              "    </tr>\n",
              "  </tbody>\n",
              "</table>\n",
              "</div>"
            ],
            "text/plain": [
              "com_ethnicity_isnull     False     True \n",
              "mos_gender                              \n",
              "F                     0.037581  0.023932\n",
              "M                     0.962419  0.976068"
            ]
          },
          "execution_count": 33,
          "metadata": {},
          "output_type": "execute_result"
        }
      ]
    },
    {
      "cell_type": "markdown",
      "metadata": {
        "id": "-BUgsSCer6ce"
      },
      "source": [
        "Observed TVD."
      ]
    },
    {
      "cell_type": "code",
      "metadata": {
        "id": "t_sJ5EKSr6ce",
        "outputId": "5af80bfd-3b2a-40e8-fb9b-7ff9d7c2faea"
      },
      "source": [
        "#Observed TVD\n",
        "obs_tvd1=np.sum(np.abs(emp_distribution1.diff(axis=1).iloc[:,-1]))/2\n",
        "obs_tvd1"
      ],
      "execution_count": null,
      "outputs": [
        {
          "data": {
            "text/plain": [
              "0.013649570005895397"
            ]
          },
          "execution_count": 34,
          "metadata": {},
          "output_type": "execute_result"
        }
      ]
    },
    {
      "cell_type": "markdown",
      "metadata": {
        "id": "-v1QP1phr6ce"
      },
      "source": [
        "Permutation test"
      ]
    },
    {
      "cell_type": "code",
      "metadata": {
        "id": "saQoO_nEr6ce"
      },
      "source": [
        "#Permutation test\n",
        "n=1000\n",
        "gen=physical.copy()[[\"mos_gender\",\"com_ethnicity_isnull\"]]\n",
        "tvds1=[]\n",
        "for i in range(n):\n",
        "    shuffled_gen=gen[\"mos_gender\"].sample(replace=False,frac=1).reset_index(drop=True)\n",
        "    shuffled=gen.assign(**{'Shuffled Gender': shuffled_gen})\n",
        "    shuffled_emp1=shuffled.pivot_table(index=\"Shuffled Gender\",columns=\"com_ethnicity_isnull\",values=None,aggfunc=\"size\").fillna(0).apply(lambda x:x/x.sum())\n",
        "    tvd1=np.sum(np.abs(shuffled_emp1.diff(axis=1).iloc[:,-1]))/2\n",
        "    tvds1.append(tvd1)"
      ],
      "execution_count": null,
      "outputs": []
    },
    {
      "cell_type": "markdown",
      "metadata": {
        "id": "W_4YKjt1r6ce"
      },
      "source": [
        "Histogram of TVDs for missingness of complainant ethnicity's dependence on the officer's gender."
      ]
    },
    {
      "cell_type": "code",
      "metadata": {
        "id": "4L9ZBZAnr6ce",
        "outputId": "ec3c287e-ca26-42f3-b9ce-f8fa9ca420b5"
      },
      "source": [
        "#Histogram of missingness of complainant ethnicity's dependence on the officer's gender\n",
        "pd.Series(tvds1).plot(kind=\"hist\",density=True,alpha=0.9,title=\"Missingness of Complainant Ethnicity's Dependence on the Officer's Gender\")\n",
        "plt.scatter(obs_tvd1,0,color=\"red\",s=40,zorder=10)"
      ],
      "execution_count": null,
      "outputs": [
        {
          "data": {
            "text/plain": [
              "<matplotlib.collections.PathCollection at 0x7f85bc702580>"
            ]
          },
          "execution_count": 58,
          "metadata": {},
          "output_type": "execute_result"
        },
        {
          "data": {
            "image/png": "[encoded data removed]",
            "text/plain": [
              "<Figure size 432x288 with 1 Axes>"
            ]
          },
          "metadata": {
            "image/png": {
              "height": 263,
              "width": 471
            },
            "needs_background": "light"
          },
          "output_type": "display_data"
        }
      ]
    },
    {
      "cell_type": "markdown",
      "metadata": {
        "id": "1oaE-rVQr6ce"
      },
      "source": [
        "This p-value is greater than the significance value of 0.01 which means that the missingness of complainant ethnicity's is not dependent on the officer's gender."
      ]
    },
    {
      "cell_type": "code",
      "metadata": {
        "id": "MP59zPkKr6cf",
        "outputId": "90c70dcd-b6c4-40cd-c959-68704c3d6294"
      },
      "source": [
        "#p-value,significance level = 0.01\n",
        "np.count_nonzero(tvds1>=obs_tvd1) / len(tvds1)"
      ],
      "execution_count": null,
      "outputs": [
        {
          "data": {
            "text/plain": [
              "0.021"
            ]
          },
          "execution_count": 59,
          "metadata": {},
          "output_type": "execute_result"
        }
      ]
    },
    {
      "cell_type": "markdown",
      "metadata": {
        "id": "g-U4pLXSr6cf"
      },
      "source": [
        "### Hypothesis Test"
      ]
    },
    {
      "cell_type": "markdown",
      "metadata": {
        "id": "p2oA0JF-r6cf"
      },
      "source": [
        "Null Hypothesis= The distribution of the NYPD civilian excessive force complaints that are found to be substantiated is similar among those who identified themselves as white and those who did not.\n",
        "\n",
        "Alternative Hypothesis= The distributions of NYPD substantiated excessive force complaints are different amongst the two.\n",
        "\n",
        "Test Statistic= Total Variation Distance, two categorical variables.\n",
        "\n",
        "Significance Level= 0.01"
      ]
    },
    {
      "cell_type": "markdown",
      "metadata": {
        "id": "BAwNpaA6r6cf"
      },
      "source": [
        "Pivot table of number of allegations proportionalized."
      ]
    },
    {
      "cell_type": "code",
      "metadata": {
        "ExecuteTime": {
          "end_time": "2019-10-31T23:36:28.666489Z",
          "start_time": "2019-10-31T23:36:28.664381Z"
        },
        "id": "XGaN5Cpor6cf",
        "outputId": "5f32cb63-3eae-4f64-db83-0185ac8ca675"
      },
      "source": [
        "#Number of allegations\n",
        "counts1=counts/counts.sum(axis=0)\n",
        "counts1"
      ],
      "execution_count": null,
      "outputs": [
        {
          "data": {
            "text/html": [
              "<div>\n",
              "<style scoped>\n",
              "    .dataframe tbody tr th:only-of-type {\n",
              "        vertical-align: middle;\n",
              "    }\n",
              "\n",
              "    .dataframe tbody tr th {\n",
              "        vertical-align: top;\n",
              "    }\n",
              "\n",
              "    .dataframe thead th {\n",
              "        text-align: right;\n",
              "    }\n",
              "</style>\n",
              "<table border=\"1\" class=\"dataframe\">\n",
              "  <thead>\n",
              "    <tr style=\"text-align: right;\">\n",
              "      <th></th>\n",
              "      <th>allegation</th>\n",
              "    </tr>\n",
              "    <tr>\n",
              "      <th>white_nonwhite</th>\n",
              "      <th></th>\n",
              "    </tr>\n",
              "  </thead>\n",
              "  <tbody>\n",
              "    <tr>\n",
              "      <th>White</th>\n",
              "      <td>0.085524</td>\n",
              "    </tr>\n",
              "    <tr>\n",
              "      <th>nonwhite</th>\n",
              "      <td>0.914476</td>\n",
              "    </tr>\n",
              "  </tbody>\n",
              "</table>\n",
              "</div>"
            ],
            "text/plain": [
              "                allegation\n",
              "white_nonwhite            \n",
              "White             0.085524\n",
              "nonwhite          0.914476"
            ]
          },
          "execution_count": 38,
          "metadata": {},
          "output_type": "execute_result"
        }
      ]
    },
    {
      "cell_type": "markdown",
      "metadata": {
        "id": "wv7KFNRQr6cf"
      },
      "source": [
        "Pivot table of number of substantiated allegations proportionalized."
      ]
    },
    {
      "cell_type": "code",
      "metadata": {
        "id": "Ni3zpGtgr6cf",
        "outputId": "44a0ceb3-6ed4-423a-c882-66a59221acc8"
      },
      "source": [
        "#Number of substantiated complaints\n",
        "substantiated1=substantiated/substantiated.sum(axis=0)\n",
        "substantiated1=substantiated1.rename(columns={\"allegation\":\"substantiated\"})\n",
        "substantiated1"
      ],
      "execution_count": null,
      "outputs": [
        {
          "data": {
            "text/html": [
              "<div>\n",
              "<style scoped>\n",
              "    .dataframe tbody tr th:only-of-type {\n",
              "        vertical-align: middle;\n",
              "    }\n",
              "\n",
              "    .dataframe tbody tr th {\n",
              "        vertical-align: top;\n",
              "    }\n",
              "\n",
              "    .dataframe thead th {\n",
              "        text-align: right;\n",
              "    }\n",
              "</style>\n",
              "<table border=\"1\" class=\"dataframe\">\n",
              "  <thead>\n",
              "    <tr style=\"text-align: right;\">\n",
              "      <th></th>\n",
              "      <th>substantiated</th>\n",
              "    </tr>\n",
              "    <tr>\n",
              "      <th>white_nonwhite</th>\n",
              "      <th></th>\n",
              "    </tr>\n",
              "  </thead>\n",
              "  <tbody>\n",
              "    <tr>\n",
              "      <th>White</th>\n",
              "      <td>0.105634</td>\n",
              "    </tr>\n",
              "    <tr>\n",
              "      <th>nonwhite</th>\n",
              "      <td>0.894366</td>\n",
              "    </tr>\n",
              "  </tbody>\n",
              "</table>\n",
              "</div>"
            ],
            "text/plain": [
              "                substantiated\n",
              "white_nonwhite               \n",
              "White                0.105634\n",
              "nonwhite             0.894366"
            ]
          },
          "execution_count": 39,
          "metadata": {},
          "output_type": "execute_result"
        }
      ]
    },
    {
      "cell_type": "markdown",
      "metadata": {
        "id": "L8CdZnjrr6cf"
      },
      "source": [
        "Final pivot table to be used for hypothesis testing."
      ]
    },
    {
      "cell_type": "code",
      "metadata": {
        "id": "XWCaSXYzr6cg",
        "outputId": "02a63eca-1873-45d0-dc53-56ab9f363fd4"
      },
      "source": [
        "#Pivot table with proportions of number of allegations and number substantiated\n",
        "success=pd.concat([counts1,substantiated1],axis=1)\n",
        "success"
      ],
      "execution_count": null,
      "outputs": [
        {
          "data": {
            "text/html": [
              "<div>\n",
              "<style scoped>\n",
              "    .dataframe tbody tr th:only-of-type {\n",
              "        vertical-align: middle;\n",
              "    }\n",
              "\n",
              "    .dataframe tbody tr th {\n",
              "        vertical-align: top;\n",
              "    }\n",
              "\n",
              "    .dataframe thead th {\n",
              "        text-align: right;\n",
              "    }\n",
              "</style>\n",
              "<table border=\"1\" class=\"dataframe\">\n",
              "  <thead>\n",
              "    <tr style=\"text-align: right;\">\n",
              "      <th></th>\n",
              "      <th>allegation</th>\n",
              "      <th>substantiated</th>\n",
              "    </tr>\n",
              "    <tr>\n",
              "      <th>white_nonwhite</th>\n",
              "      <th></th>\n",
              "      <th></th>\n",
              "    </tr>\n",
              "  </thead>\n",
              "  <tbody>\n",
              "    <tr>\n",
              "      <th>White</th>\n",
              "      <td>0.085524</td>\n",
              "      <td>0.105634</td>\n",
              "    </tr>\n",
              "    <tr>\n",
              "      <th>nonwhite</th>\n",
              "      <td>0.914476</td>\n",
              "      <td>0.894366</td>\n",
              "    </tr>\n",
              "  </tbody>\n",
              "</table>\n",
              "</div>"
            ],
            "text/plain": [
              "                allegation  substantiated\n",
              "white_nonwhite                           \n",
              "White             0.085524       0.105634\n",
              "nonwhite          0.914476       0.894366"
            ]
          },
          "execution_count": 40,
          "metadata": {},
          "output_type": "execute_result"
        }
      ]
    },
    {
      "cell_type": "markdown",
      "metadata": {
        "id": "Gs4FoLkur6cg"
      },
      "source": [
        "Bar chart of proportion of number of allegations and number substantiated."
      ]
    },
    {
      "cell_type": "code",
      "metadata": {
        "id": "8CFj8dIjr6cg",
        "outputId": "a67ff2bc-c85f-4893-a719-6b9dd8cf20ef"
      },
      "source": [
        "#Distribution of number of allegations and number substantiated\n",
        "success.plot(kind=\"bar\",title=\"Distributions of Allegations Made and Allegations Substantiated\")"
      ],
      "execution_count": null,
      "outputs": [
        {
          "data": {
            "text/plain": [
              "<AxesSubplot:title={'center':'Distributions of Allegations Made and Allegations Substantiated'}, xlabel='white_nonwhite'>"
            ]
          },
          "execution_count": 41,
          "metadata": {},
          "output_type": "execute_result"
        },
        {
          "data": {
            "image/png": "[encoded data removed]",
            "text/plain": [
              "<Figure size 432x288 with 1 Axes>"
            ]
          },
          "metadata": {
            "image/png": {
              "height": 314,
              "width": 397
            },
            "needs_background": "light"
          },
          "output_type": "display_data"
        }
      ]
    },
    {
      "cell_type": "markdown",
      "metadata": {
        "id": "Ij82dRBpr6cg"
      },
      "source": [
        "The observed TVD."
      ]
    },
    {
      "cell_type": "code",
      "metadata": {
        "id": "dXSZnzCFr6cg",
        "outputId": "dfa03a28-5de7-4d99-86ff-92b82fe54f63"
      },
      "source": [
        "#Observed TVD for hypothesis test\n",
        "obs_tvd2=np.sum(np.abs(success.diff(axis=1).iloc[:,-1]))/2\n",
        "obs_tvd2"
      ],
      "execution_count": null,
      "outputs": [
        {
          "data": {
            "text/plain": [
              "0.020109521963205146"
            ]
          },
          "execution_count": 42,
          "metadata": {},
          "output_type": "execute_result"
        }
      ]
    },
    {
      "cell_type": "markdown",
      "metadata": {
        "id": "fazLhwbLr6cg"
      },
      "source": [
        "Hypothesis test using a test statistic of TVDs since it there are two categorical variables."
      ]
    },
    {
      "cell_type": "code",
      "metadata": {
        "id": "UYYAosT_r6cg"
      },
      "source": [
        "#Hypothesis test\n",
        "rand_allegations=np.random.multinomial(counts.sum(axis=0).values[0],success[\"allegation\"],size=1000)\n",
        "rand_allegations = rand_allegations / counts.sum(axis=0).values[0]\n",
        "tvds2=np.sum(np.abs(rand_allegations-success[\"allegation\"].values),axis=1) / 2"
      ],
      "execution_count": null,
      "outputs": []
    },
    {
      "cell_type": "markdown",
      "metadata": {
        "id": "dQab3urTr6cg"
      },
      "source": [
        "Histogram of TVDs"
      ]
    },
    {
      "cell_type": "code",
      "metadata": {
        "id": "TCD_D_l2r6ch",
        "outputId": "13b10c89-5786-4466-a721-6249e4f2b94b"
      },
      "source": [
        "#Distribution of TVDs\n",
        "pd.Series(tvds2).hist(bins=20)\n",
        "plt.scatter(obs_tvd2,0,color=\"red\",s=20)"
      ],
      "execution_count": null,
      "outputs": [
        {
          "data": {
            "text/plain": [
              "<matplotlib.collections.PathCollection at 0x7f85bc89f340>"
            ]
          },
          "execution_count": 44,
          "metadata": {},
          "output_type": "execute_result"
        },
        {
          "data": {
            "image/png": "[encoded data removed]",
            "text/plain": [
              "<Figure size 432x288 with 1 Axes>"
            ]
          },
          "metadata": {
            "image/png": {
              "height": 248,
              "width": 375
            },
            "needs_background": "light"
          },
          "output_type": "display_data"
        }
      ]
    },
    {
      "cell_type": "markdown",
      "metadata": {
        "id": "KAvmnsnhr6ch"
      },
      "source": [
        "P-value of 0.0 means we can reject the null hypothesis."
      ]
    },
    {
      "cell_type": "code",
      "metadata": {
        "id": "NBoj2ru_r6ch",
        "outputId": "1ef4d9a2-ba0e-4f88-fa47-80775a3516f5"
      },
      "source": [
        "#p-value\n",
        "np.count_nonzero(tvds2>=obs_tvd2) / len(tvds2)"
      ],
      "execution_count": null,
      "outputs": [
        {
          "data": {
            "text/plain": [
              "0.0"
            ]
          },
          "execution_count": 45,
          "metadata": {},
          "output_type": "execute_result"
        }
      ]
    },
    {
      "cell_type": "markdown",
      "metadata": {
        "id": "yJ4LHumHr6ch"
      },
      "source": [
        "Second hypothesis test that is the same but will leave the ethnicities ungrouped just to check."
      ]
    },
    {
      "cell_type": "markdown",
      "metadata": {
        "id": "EoLC3ROAr6ch"
      },
      "source": [
        "Pivot table counts of allegations."
      ]
    },
    {
      "cell_type": "code",
      "metadata": {
        "id": "3UkJsx1yr6ch",
        "outputId": "10dbeaa7-2408-48e9-acf2-fee8cbad13b4"
      },
      "source": [
        "#Original ungrouped ethnicities allegations proportions\n",
        "counts2=pd.pivot_table(data=physical1.groupby(\"complainant_ethnicity\").count(),index=\"complainant_ethnicity\",values=\"allegation\")\n",
        "counts_all = counts2 / counts2.sum(axis=0)\n",
        "counts_all"
      ],
      "execution_count": null,
      "outputs": [
        {
          "data": {
            "text/html": [
              "<div>\n",
              "<style scoped>\n",
              "    .dataframe tbody tr th:only-of-type {\n",
              "        vertical-align: middle;\n",
              "    }\n",
              "\n",
              "    .dataframe tbody tr th {\n",
              "        vertical-align: top;\n",
              "    }\n",
              "\n",
              "    .dataframe thead th {\n",
              "        text-align: right;\n",
              "    }\n",
              "</style>\n",
              "<table border=\"1\" class=\"dataframe\">\n",
              "  <thead>\n",
              "    <tr style=\"text-align: right;\">\n",
              "      <th></th>\n",
              "      <th>allegation</th>\n",
              "    </tr>\n",
              "    <tr>\n",
              "      <th>complainant_ethnicity</th>\n",
              "      <th></th>\n",
              "    </tr>\n",
              "  </thead>\n",
              "  <tbody>\n",
              "    <tr>\n",
              "      <th>American Indian</th>\n",
              "      <td>0.001083</td>\n",
              "    </tr>\n",
              "    <tr>\n",
              "      <th>Asian</th>\n",
              "      <td>0.014847</td>\n",
              "    </tr>\n",
              "    <tr>\n",
              "      <th>Black</th>\n",
              "      <td>0.629756</td>\n",
              "    </tr>\n",
              "    <tr>\n",
              "      <th>Hispanic</th>\n",
              "      <td>0.246830</td>\n",
              "    </tr>\n",
              "    <tr>\n",
              "      <th>Other Race</th>\n",
              "      <td>0.021961</td>\n",
              "    </tr>\n",
              "    <tr>\n",
              "      <th>White</th>\n",
              "      <td>0.085524</td>\n",
              "    </tr>\n",
              "  </tbody>\n",
              "</table>\n",
              "</div>"
            ],
            "text/plain": [
              "                       allegation\n",
              "complainant_ethnicity            \n",
              "American Indian          0.001083\n",
              "Asian                    0.014847\n",
              "Black                    0.629756\n",
              "Hispanic                 0.246830\n",
              "Other Race               0.021961\n",
              "White                    0.085524"
            ]
          },
          "execution_count": 46,
          "metadata": {},
          "output_type": "execute_result"
        }
      ]
    },
    {
      "cell_type": "markdown",
      "metadata": {
        "id": "TuHZ6pSBr6ch"
      },
      "source": [
        "Pivot table counts of allegations."
      ]
    },
    {
      "cell_type": "code",
      "metadata": {
        "id": "yNI3KBQ_r6ch",
        "outputId": "641b601c-4e97-4d71-ccef-1571cb622b15"
      },
      "source": [
        "#Original ungrouped ethnicities substantiated allegations proportions\n",
        "substantiated2=pd.pivot_table(data=physical1[physical1[\"board_disposition\"].str.contains(\"Substantiated\")].groupby(\"complainant_ethnicity\").count().reset_index(),index=\"complainant_ethnicity\",values=\"allegation\")\n",
        "substantiated_all = substantiated2 / substantiated2.sum(axis=0)\n",
        "substantiated_all=substantiated_all.rename(columns={\"allegation\":\"substantiated\"})\n",
        "substantiated_all"
      ],
      "execution_count": null,
      "outputs": [
        {
          "data": {
            "text/html": [
              "<div>\n",
              "<style scoped>\n",
              "    .dataframe tbody tr th:only-of-type {\n",
              "        vertical-align: middle;\n",
              "    }\n",
              "\n",
              "    .dataframe tbody tr th {\n",
              "        vertical-align: top;\n",
              "    }\n",
              "\n",
              "    .dataframe thead th {\n",
              "        text-align: right;\n",
              "    }\n",
              "</style>\n",
              "<table border=\"1\" class=\"dataframe\">\n",
              "  <thead>\n",
              "    <tr style=\"text-align: right;\">\n",
              "      <th></th>\n",
              "      <th>substantiated</th>\n",
              "    </tr>\n",
              "    <tr>\n",
              "      <th>complainant_ethnicity</th>\n",
              "      <th></th>\n",
              "    </tr>\n",
              "  </thead>\n",
              "  <tbody>\n",
              "    <tr>\n",
              "      <th>American Indian</th>\n",
              "      <td>0.001408</td>\n",
              "    </tr>\n",
              "    <tr>\n",
              "      <th>Asian</th>\n",
              "      <td>0.016901</td>\n",
              "    </tr>\n",
              "    <tr>\n",
              "      <th>Black</th>\n",
              "      <td>0.576056</td>\n",
              "    </tr>\n",
              "    <tr>\n",
              "      <th>Hispanic</th>\n",
              "      <td>0.274648</td>\n",
              "    </tr>\n",
              "    <tr>\n",
              "      <th>Other Race</th>\n",
              "      <td>0.025352</td>\n",
              "    </tr>\n",
              "    <tr>\n",
              "      <th>White</th>\n",
              "      <td>0.105634</td>\n",
              "    </tr>\n",
              "  </tbody>\n",
              "</table>\n",
              "</div>"
            ],
            "text/plain": [
              "                       substantiated\n",
              "complainant_ethnicity               \n",
              "American Indian             0.001408\n",
              "Asian                       0.016901\n",
              "Black                       0.576056\n",
              "Hispanic                    0.274648\n",
              "Other Race                  0.025352\n",
              "White                       0.105634"
            ]
          },
          "execution_count": 47,
          "metadata": {},
          "output_type": "execute_result"
        }
      ]
    },
    {
      "cell_type": "markdown",
      "metadata": {
        "id": "r6geehcJr6ci"
      },
      "source": [
        "Pivot table with proportions of each ethnicities allegations and substantiated claims with respect to the others."
      ]
    },
    {
      "cell_type": "code",
      "metadata": {
        "id": "3d5FFyxtr6cj",
        "outputId": "467db7ae-e4fb-453a-a78e-4834d44cda2c"
      },
      "source": [
        "#Single pivot table for ungrouped ethnicities allegations proportions\n",
        "success_all=pd.concat([counts_all,substantiated_all],axis=1)\n",
        "success_all"
      ],
      "execution_count": null,
      "outputs": [
        {
          "data": {
            "text/html": [
              "<div>\n",
              "<style scoped>\n",
              "    .dataframe tbody tr th:only-of-type {\n",
              "        vertical-align: middle;\n",
              "    }\n",
              "\n",
              "    .dataframe tbody tr th {\n",
              "        vertical-align: top;\n",
              "    }\n",
              "\n",
              "    .dataframe thead th {\n",
              "        text-align: right;\n",
              "    }\n",
              "</style>\n",
              "<table border=\"1\" class=\"dataframe\">\n",
              "  <thead>\n",
              "    <tr style=\"text-align: right;\">\n",
              "      <th></th>\n",
              "      <th>allegation</th>\n",
              "      <th>substantiated</th>\n",
              "    </tr>\n",
              "    <tr>\n",
              "      <th>complainant_ethnicity</th>\n",
              "      <th></th>\n",
              "      <th></th>\n",
              "    </tr>\n",
              "  </thead>\n",
              "  <tbody>\n",
              "    <tr>\n",
              "      <th>American Indian</th>\n",
              "      <td>0.001083</td>\n",
              "      <td>0.001408</td>\n",
              "    </tr>\n",
              "    <tr>\n",
              "      <th>Asian</th>\n",
              "      <td>0.014847</td>\n",
              "      <td>0.016901</td>\n",
              "    </tr>\n",
              "    <tr>\n",
              "      <th>Black</th>\n",
              "      <td>0.629756</td>\n",
              "      <td>0.576056</td>\n",
              "    </tr>\n",
              "    <tr>\n",
              "      <th>Hispanic</th>\n",
              "      <td>0.246830</td>\n",
              "      <td>0.274648</td>\n",
              "    </tr>\n",
              "    <tr>\n",
              "      <th>Other Race</th>\n",
              "      <td>0.021961</td>\n",
              "      <td>0.025352</td>\n",
              "    </tr>\n",
              "    <tr>\n",
              "      <th>White</th>\n",
              "      <td>0.085524</td>\n",
              "      <td>0.105634</td>\n",
              "    </tr>\n",
              "  </tbody>\n",
              "</table>\n",
              "</div>"
            ],
            "text/plain": [
              "                       allegation  substantiated\n",
              "complainant_ethnicity                           \n",
              "American Indian          0.001083       0.001408\n",
              "Asian                    0.014847       0.016901\n",
              "Black                    0.629756       0.576056\n",
              "Hispanic                 0.246830       0.274648\n",
              "Other Race               0.021961       0.025352\n",
              "White                    0.085524       0.105634"
            ]
          },
          "execution_count": 48,
          "metadata": {},
          "output_type": "execute_result"
        }
      ]
    },
    {
      "cell_type": "markdown",
      "metadata": {
        "id": "iyqdErRWr6cj"
      },
      "source": [
        "Distribution of proportion of allegations made per complainant_ethnicity and those substantiated."
      ]
    },
    {
      "cell_type": "code",
      "metadata": {
        "id": "aWqPCaCKr6cj",
        "outputId": "174cd220-a3b5-41ee-d5da-7b35ea6784f9"
      },
      "source": [
        "#Bar plot of distributions of allegations made and allegations substantiated\n",
        "success_all.plot(kind=\"barh\",title=\"Distributions of Allegations Made and Allegations Substantiated\")"
      ],
      "execution_count": null,
      "outputs": [
        {
          "data": {
            "text/plain": [
              "<AxesSubplot:title={'center':'Distributions of Allegations Made and Allegations Substantiated'}, ylabel='complainant_ethnicity'>"
            ]
          },
          "execution_count": 49,
          "metadata": {},
          "output_type": "execute_result"
        },
        {
          "data": {
            "image/png": "[encoded data removed]",
            "text/plain": [
              "<Figure size 432x288 with 1 Axes>"
            ]
          },
          "metadata": {
            "image/png": {
              "height": 263,
              "width": 476
            },
            "needs_background": "light"
          },
          "output_type": "display_data"
        }
      ]
    },
    {
      "cell_type": "markdown",
      "metadata": {
        "id": "fFij1tcZr6cj"
      },
      "source": [
        "Observed TVD."
      ]
    },
    {
      "cell_type": "code",
      "metadata": {
        "id": "rrADHPHIr6cj",
        "outputId": "29655e93-d97b-4337-d9ab-4e97e114bc0e"
      },
      "source": [
        "#Observed TVD\n",
        "obs_tvd3=np.sum(np.abs(success_all.diff(axis=1).iloc[:,-1]))/2\n",
        "obs_tvd3"
      ],
      "execution_count": null,
      "outputs": [
        {
          "data": {
            "text/plain": [
              "0.053699306883677564"
            ]
          },
          "execution_count": 50,
          "metadata": {},
          "output_type": "execute_result"
        }
      ]
    },
    {
      "cell_type": "markdown",
      "metadata": {
        "id": "XVUrqsKmr6cj"
      },
      "source": [
        "Hypothesis test for all ethnicities instead of only white and nonwhite."
      ]
    },
    {
      "cell_type": "code",
      "metadata": {
        "id": "K-oMsY1rr6ck"
      },
      "source": [
        "#Hypothesis test\n",
        "rand_allegations_all=np.random.multinomial(counts.sum(axis=0).values[0],success_all[\"allegation\"],size=1000)\n",
        "rand_allegations_all = rand_allegations_all / counts.sum(axis=0).values[0]\n",
        "tvds_all=np.sum(np.abs(rand_allegations_all-success_all[\"allegation\"].values),axis=1) / 2"
      ],
      "execution_count": null,
      "outputs": []
    },
    {
      "cell_type": "markdown",
      "metadata": {
        "id": "XRdZSJ2sr6cm"
      },
      "source": [
        "Distribution for TVDs of all ethnicities ungrouped."
      ]
    },
    {
      "cell_type": "code",
      "metadata": {
        "id": "0q1kKLATr6cm",
        "outputId": "1bbaccce-728d-45e1-f5da-f31241e818a6"
      },
      "source": [
        "#Histogram of TVDs\n",
        "pd.Series(tvds_all).hist(bins=20)\n",
        "plt.scatter(obs_tvd3,0,color=\"red\",s=20)"
      ],
      "execution_count": null,
      "outputs": [
        {
          "data": {
            "text/plain": [
              "<matplotlib.collections.PathCollection at 0x7f85bc706bb0>"
            ]
          },
          "execution_count": 52,
          "metadata": {},
          "output_type": "execute_result"
        },
        {
          "data": {
            "image/png": "[encoded data removed]",
            "text/plain": [
              "<Figure size 432x288 with 1 Axes>"
            ]
          },
          "metadata": {
            "image/png": {
              "height": 248,
              "width": 375
            },
            "needs_background": "light"
          },
          "output_type": "display_data"
        }
      ]
    },
    {
      "cell_type": "markdown",
      "metadata": {
        "id": "ZT-O8xvAr6cm"
      },
      "source": [
        "Additional p-value however initial hypothesis test already answers the research question."
      ]
    },
    {
      "cell_type": "code",
      "metadata": {
        "id": "7jA173vbr6cm",
        "outputId": "5992563c-43cb-4277-aa40-e713e08e99fb"
      },
      "source": [
        "#p-value\n",
        "np.count_nonzero(tvds_all>=obs_tvd3) / len(tvds_all)"
      ],
      "execution_count": null,
      "outputs": [
        {
          "data": {
            "text/plain": [
              "0.0"
            ]
          },
          "execution_count": 53,
          "metadata": {},
          "output_type": "execute_result"
        }
      ]
    }
  ]
}